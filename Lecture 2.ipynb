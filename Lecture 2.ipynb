{
 "cells": [
  {
   "cell_type": "markdown",
   "metadata": {
    "slideshow": {
     "slide_type": "slide"
    }
   },
   "source": [
    "# Zajęcia 2: 2015-12-07\n",
    "\n",
    "\n"
   ]
  },
  {
   "cell_type": "markdown",
   "metadata": {
    "slideshow": {
     "slide_type": "fragment"
    }
   },
   "source": [
    "## Plan dzisiejszych zajęć\n",
    "\n",
    "0. Struktury danych\n",
    "1. Lista (, stos i kolejka)\n",
    "2. Krotka\n",
    "3. Słownik\n",
    "4. Zbiór"
   ]
  },
  {
   "cell_type": "markdown",
   "metadata": {
    "slideshow": {
     "slide_type": "slide"
    }
   },
   "source": [
    "# Struktury danych"
   ]
  },
  {
   "cell_type": "markdown",
   "metadata": {
    "slideshow": {
     "slide_type": "fragment"
    }
   },
   "source": [
    "## Modelowanie\n",
    "\n",
    "W celu rozwiązania złożonego problemu musimy go przetłumaczyć na język komputerów.\n",
    "\n",
    "Jak posiadaną wiedzę (np. dotyczącą rzeczywistości) zapisać w pamięci komputera?"
   ]
  },
  {
   "cell_type": "markdown",
   "metadata": {
    "slideshow": {
     "slide_type": "fragment"
    }
   },
   "source": [
    "W komputerze wszystkie dane sa sprowadzane do kodu binarnego (0/1)."
   ]
  },
  {
   "cell_type": "markdown",
   "metadata": {
    "slideshow": {
     "slide_type": "subslide"
    }
   },
   "source": [
    "By zrozumiale (dla ludzi) przechowywać dane w pamięci komputera, najwygodniej je pogrupować: <br>\n",
    "\n",
    " - wspólna kategoria<br>\n",
    "\n",
    " - wspólne cechy<br>\n",
    "\n",
    " - wspólne przeznaczenie (funkcja)<br>"
   ]
  },
  {
   "cell_type": "markdown",
   "metadata": {
    "slideshow": {
     "slide_type": "subslide"
    }
   },
   "source": [
    "## Struktury danych\n",
    "\n",
    "Sposób uporządkowania informacji na komputerze.\n"
   ]
  },
  {
   "cell_type": "markdown",
   "metadata": {
    "slideshow": {
     "slide_type": "fragment"
    }
   },
   "source": [
    "Na przykład:\n",
    "\n",
    "tablice\n",
    "\n",
    "listy\n",
    "\n",
    "stosy\n",
    "\n",
    "kolejki\n",
    "\n",
    "zbiory"
   ]
  },
  {
   "cell_type": "markdown",
   "metadata": {
    "slideshow": {
     "slide_type": "slide"
    }
   },
   "source": [
    "# Tablica\n",
    "\n",
    "Sposób zapisu i przedstawiania informacji\n",
    "\n",
    "   posiada wiersze i kolumny\n",
    "   \n",
    "   dane umieszcza się w odpowiednio rozmieszczonych polach\n",
    "   \n",
    "   jest uporządkowana (kolejność ma wpływ)\n",
    "    "
   ]
  },
  {
   "cell_type": "markdown",
   "metadata": {
    "slideshow": {
     "slide_type": "subslide"
    }
   },
   "source": [
    "# Lista\n"
   ]
  },
  {
   "cell_type": "markdown",
   "metadata": {
    "slideshow": {
     "slide_type": "fragment"
    }
   },
   "source": [
    "Dynamiczna tablica, której <b>nie deklarujemy ilu komórek będziemy używać</b>."
   ]
  },
  {
   "cell_type": "markdown",
   "metadata": {
    "slideshow": {
     "slide_type": "fragment"
    }
   },
   "source": [
    "## deklaracja listy"
   ]
  },
  {
   "cell_type": "code",
   "execution_count": 8,
   "metadata": {
    "collapsed": false,
    "slideshow": {
     "slide_type": "fragment"
    }
   },
   "outputs": [
    {
     "name": "stdout",
     "output_type": "stream",
     "text": [
      "<type 'list'>\n",
      "<type 'list'>\n"
     ]
    }
   ],
   "source": [
    "l1 = list()\n",
    "l2 = []\n",
    "\n",
    "print (type(l1))\n",
    "print (type(l2))\n"
   ]
  },
  {
   "cell_type": "markdown",
   "metadata": {
    "slideshow": {
     "slide_type": "subslide"
    }
   },
   "source": [
    "## dodawanie do listy komórek"
   ]
  },
  {
   "cell_type": "code",
   "execution_count": 9,
   "metadata": {
    "collapsed": false,
    "slideshow": {
     "slide_type": "fragment"
    }
   },
   "outputs": [
    {
     "name": "stdout",
     "output_type": "stream",
     "text": [
      "['pierwsza']\n",
      "['pierwsza', 'druga']\n"
     ]
    }
   ],
   "source": [
    "l=[]\n",
    "l.append('pierwsza')\n",
    "print l\n",
    "\n",
    "l.append('druga')\n",
    "print l"
   ]
  },
  {
   "cell_type": "markdown",
   "metadata": {
    "slideshow": {
     "slide_type": "fragment"
    }
   },
   "source": [
    "## tworzenie listy z \"pełnych\" danych"
   ]
  },
  {
   "cell_type": "code",
   "execution_count": 10,
   "metadata": {
    "collapsed": false,
    "slideshow": {
     "slide_type": "fragment"
    }
   },
   "outputs": [
    {
     "name": "stdout",
     "output_type": "stream",
     "text": [
      "['pierwsza', 'druga', 'trzecia', 'czwarta']\n"
     ]
    }
   ],
   "source": [
    "l = ['pierwsza','druga', 'trzecia', 'czwarta']\n",
    "print l"
   ]
  },
  {
   "cell_type": "markdown",
   "metadata": {
    "slideshow": {
     "slide_type": "subslide"
    }
   },
   "source": [
    "## dodawanie komórki w konkretnym miejscu na liście"
   ]
  },
  {
   "cell_type": "code",
   "execution_count": 15,
   "metadata": {
    "collapsed": false,
    "slideshow": {
     "slide_type": "fragment"
    }
   },
   "outputs": [
    {
     "name": "stdout",
     "output_type": "stream",
     "text": [
      "['pierwsza', 'druga', 'trzecia', 'czwarta']\n",
      "['pierwsza', 'druga', 'piata', 'trzecia', 'czwarta']\n"
     ]
    }
   ],
   "source": [
    "l = ['pierwsza','druga', 'trzecia', 'czwarta']\n",
    "print l\n",
    "l.insert(2, \"piata\")\n",
    "print l"
   ]
  },
  {
   "cell_type": "markdown",
   "metadata": {
    "slideshow": {
     "slide_type": "fragment"
    }
   },
   "source": [
    "## usuwanie komórki o podanym indeksie"
   ]
  },
  {
   "cell_type": "code",
   "execution_count": 18,
   "metadata": {
    "collapsed": false,
    "slideshow": {
     "slide_type": "fragment"
    }
   },
   "outputs": [
    {
     "name": "stdout",
     "output_type": "stream",
     "text": [
      "['pierwsza', 'druga', 'trzecia', 'czwarta', 'piata']\n",
      "['pierwsza', 'druga', 'trzecia', 'piata']\n"
     ]
    }
   ],
   "source": [
    "l = ['pierwsza','druga', 'trzecia', 'czwarta', 'piata']\n",
    "print l\n",
    "del l[3]\n",
    "print l"
   ]
  },
  {
   "cell_type": "markdown",
   "metadata": {
    "slideshow": {
     "slide_type": "subslide"
    }
   },
   "source": [
    "# wykorzystanie listy do implementacji stosu (LIFO)"
   ]
  },
  {
   "cell_type": "code",
   "execution_count": 26,
   "metadata": {
    "collapsed": false,
    "slideshow": {
     "slide_type": "fragment"
    }
   },
   "outputs": [
    {
     "name": "stdout",
     "output_type": "stream",
     "text": [
      "['a', '4', 'd']\n",
      "d\n",
      "['a', '4']\n",
      "4\n",
      "['a']\n"
     ]
    }
   ],
   "source": [
    "l = []\n",
    "l.append('a')\n",
    "l.append('4')\n",
    "l.append('d')\n",
    "print l\n",
    "print l.pop()\n",
    "print l\n",
    "print l.pop()\n",
    "print l\n"
   ]
  },
  {
   "cell_type": "markdown",
   "metadata": {
    "slideshow": {
     "slide_type": "subslide"
    }
   },
   "source": [
    "# wykorzystanie listy do implementacji kolejki (FIFO)"
   ]
  },
  {
   "cell_type": "code",
   "execution_count": 25,
   "metadata": {
    "collapsed": false,
    "slideshow": {
     "slide_type": "fragment"
    }
   },
   "outputs": [
    {
     "name": "stdout",
     "output_type": "stream",
     "text": [
      "['a', '4', 'd']\n",
      "a\n",
      "['4', 'd']\n",
      "4\n",
      "['d']\n"
     ]
    }
   ],
   "source": [
    "l = []\n",
    "l.append('a')\n",
    "l.append('4')\n",
    "l.append('d')\n",
    "print l\n",
    "print l.pop(0)\n",
    "print l\n",
    "print l.pop(0)\n",
    "print l\n"
   ]
  },
  {
   "cell_type": "markdown",
   "metadata": {
    "slideshow": {
     "slide_type": "subslide"
    }
   },
   "source": [
    "# zadanie"
   ]
  },
  {
   "cell_type": "markdown",
   "metadata": {
    "slideshow": {
     "slide_type": "fragment"
    }
   },
   "source": [
    "## symulator egzaminu (?)\n",
    "\n",
    "Napisz program, który będzie:\n",
    "\n",
    "(1) reprezentował listę 5 studentów i tyle samo arkuszy egzaminu [lista],\n",
    "\n",
    "(2) następnie - \"wyciągnij\" z listy osoby które wchodzą do sali egzaminacyjnej [kolejka] \n",
    "\n",
    "(3) każdej z osób \"podaj\" arkusz egzaminacyjny [stos]\n"
   ]
  },
  {
   "cell_type": "code",
   "execution_count": 28,
   "metadata": {
    "collapsed": false,
    "slideshow": {
     "slide_type": "fragment"
    }
   },
   "outputs": [
    {
     "name": "stdout",
     "output_type": "stream",
     "text": [
      "Ziutek 5\n",
      "Alicja 4\n",
      "Hermenegilda 3\n",
      "Sergiusz 2\n",
      "Melchior 1\n"
     ]
    }
   ],
   "source": [
    "# Przykladowe rozwiazanie\n",
    "\n",
    "listaStudentow = ['Ziutek','Alicja','Hermenegilda','Sergiusz','Melchior']\n",
    "stosEgzaminow = [1,2,3,4,5]\n",
    "\n",
    "for i in range(len(listaStudentow)):\n",
    "    print listaStudentow.pop(0), str(stosEgzaminow.pop())"
   ]
  },
  {
   "cell_type": "markdown",
   "metadata": {
    "slideshow": {
     "slide_type": "subslide"
    }
   },
   "source": [
    "## operacje dodatkowe"
   ]
  },
  {
   "cell_type": "code",
   "execution_count": 1,
   "metadata": {
    "collapsed": false,
    "slideshow": {
     "slide_type": "fragment"
    }
   },
   "outputs": [
    {
     "name": "stdout",
     "output_type": "stream",
     "text": [
      "['pierwsza', 'druga', 'trzecia', 'czwarta', ['piata', 'szosta']]\n",
      "['pierwsza', 'druga', 'trzecia', 'czwarta', 'piata', 'szosta']\n"
     ]
    }
   ],
   "source": [
    "# dodawanie list\n",
    "l = ['pierwsza','druga', 'trzecia', 'czwarta']\n",
    "l.append(['piata','szosta'])\n",
    "print l\n",
    "l3 = ['pierwsza','druga', 'trzecia', 'czwarta']\n",
    "l3.extend(['piata','szosta'])\n",
    "print l3\n"
   ]
  },
  {
   "cell_type": "code",
   "execution_count": 11,
   "metadata": {
    "collapsed": false,
    "slideshow": {
     "slide_type": "fragment"
    }
   },
   "outputs": [
    {
     "name": "stdout",
     "output_type": "stream",
     "text": [
      "['pierwsza', 'druga', 'trzecia', 'czwarta', 'piata']\n",
      "['piata', 'czwarta', 'trzecia', 'druga', 'pierwsza']\n"
     ]
    }
   ],
   "source": [
    "# odwrocenie kolejnosci\n",
    "l = ['pierwsza','druga', 'trzecia', 'czwarta', 'piata']\n",
    "print l\n",
    "l.reverse()\n",
    "print l"
   ]
  },
  {
   "cell_type": "code",
   "execution_count": 35,
   "metadata": {
    "collapsed": false,
    "slideshow": {
     "slide_type": "fragment"
    }
   },
   "outputs": [
    {
     "name": "stdout",
     "output_type": "stream",
     "text": [
      "True\n",
      "False\n"
     ]
    }
   ],
   "source": [
    "# sprawdzanie czy wartosc wystepuje\n",
    "l = ['pierwsza','druga', 'trzecia', 'czwarta', 'piata']\n",
    "print 'pierwsza' in l\n",
    "print 'Jola' in l"
   ]
  },
  {
   "cell_type": "code",
   "execution_count": 37,
   "metadata": {
    "collapsed": false,
    "slideshow": {
     "slide_type": "subslide"
    }
   },
   "outputs": [
    {
     "name": "stdout",
     "output_type": "stream",
     "text": [
      "['pierwsza', 'druga', 'trzecia', 'czwarta', 'piata', 'szesc', 'siedem', 'osiem']\n",
      "['siedem', 'osiem', 'siedem', 'osiem', 'siedem', 'osiem']\n"
     ]
    }
   ],
   "source": [
    "# dodawanie list\n",
    "l = ['pierwsza','druga', 'trzecia', 'czwarta', 'piata']\n",
    "l2 = ['siedem', 'osiem']\n",
    "print l + ['szesc'] + l2\n",
    "\n",
    "# i mnozenie\n",
    "print l2 *3"
   ]
  },
  {
   "cell_type": "code",
   "execution_count": 41,
   "metadata": {
    "collapsed": false,
    "slideshow": {
     "slide_type": "fragment"
    }
   },
   "outputs": [
    {
     "name": "stdout",
     "output_type": "stream",
     "text": [
      "['pierwsza', 'druga', 'trzecia', 'czwarta', 'piata']\n",
      "['czwarta', 'druga', 'piata', 'pierwsza', 'trzecia']\n",
      "['trzecia', 'pierwsza', 'piata', 'druga', 'czwarta']\n"
     ]
    }
   ],
   "source": [
    "# sortowanie alfabetyczne\n",
    "l = ['pierwsza','druga', 'trzecia', 'czwarta', 'piata']\n",
    "print l\n",
    "l.sort()\n",
    "print l\n",
    "l.sort(reverse=True)\n",
    "print l"
   ]
  },
  {
   "cell_type": "markdown",
   "metadata": {
    "slideshow": {
     "slide_type": "subslide"
    }
   },
   "source": [
    "# Kopiowanie listy"
   ]
  },
  {
   "cell_type": "code",
   "execution_count": 44,
   "metadata": {
    "collapsed": false,
    "slideshow": {
     "slide_type": "fragment"
    }
   },
   "outputs": [
    {
     "name": "stdout",
     "output_type": "stream",
     "text": [
      "['pierwsza', 'druga', 'trzecia', 'czwarta', 'piata']\n",
      "['pierwsza', 'druga', 'trzecia', 'czwarta', 'piata', 'BLAD!']\n",
      "['pierwsza', 'druga', 'trzecia', 'czwarta', 'piata', 'BLAD!']\n"
     ]
    }
   ],
   "source": [
    "l = ['pierwsza','druga', 'trzecia', 'czwarta', 'piata']\n",
    "l2 = l\n",
    "print l2\n",
    "l2.append('BLAD!')\n",
    "print l2\n",
    "print l"
   ]
  },
  {
   "cell_type": "code",
   "execution_count": 45,
   "metadata": {
    "collapsed": false,
    "slideshow": {
     "slide_type": "fragment"
    }
   },
   "outputs": [
    {
     "name": "stdout",
     "output_type": "stream",
     "text": [
      "['pierwsza', 'druga', 'trzecia', 'czwarta', 'piata']\n",
      "['pierwsza', 'druga', 'trzecia', 'czwarta', 'piata', 'BLAD!']\n",
      "['pierwsza', 'druga', 'trzecia', 'czwarta', 'piata']\n"
     ]
    }
   ],
   "source": [
    "l = ['pierwsza','druga', 'trzecia', 'czwarta', 'piata']\n",
    "l3 = l[:] #kopiuj wartosci\n",
    "print l3\n",
    "l3.append('BLAD!')\n",
    "print l3\n",
    "print l"
   ]
  },
  {
   "cell_type": "markdown",
   "metadata": {
    "slideshow": {
     "slide_type": "subslide"
    }
   },
   "source": [
    "## Zadanie lista\n"
   ]
  },
  {
   "cell_type": "markdown",
   "metadata": {},
   "source": [
    "Stwórz program, który będzie zawierał listy studentów z dwóch kierunków(wystarczy po 7 osób).\n",
    "\n",
    "Posortuj listy alfabetycznie,\n",
    "\n",
    "następnie stwórzlistę zawierającą oba kierunki,\n",
    "\n",
    "dodaj jeszcze parę pozycji listy\n",
    "\n",
    "i wypisz pełną listę na ekran"
   ]
  },
  {
   "cell_type": "markdown",
   "metadata": {
    "slideshow": {
     "slide_type": "slide"
    }
   },
   "source": [
    "# Rekord (krotka)"
   ]
  },
  {
   "cell_type": "markdown",
   "metadata": {
    "slideshow": {
     "slide_type": "fragment"
    }
   },
   "source": [
    "Jeden wiersz z tabeli.\n",
    "\n",
    "   grupowanie uporządkowanych danych\n",
    "   \"szybsze\" od list"
   ]
  },
  {
   "cell_type": "markdown",
   "metadata": {
    "slideshow": {
     "slide_type": "fragment"
    }
   },
   "source": [
    "## deklaracja krotki"
   ]
  },
  {
   "cell_type": "code",
   "execution_count": 46,
   "metadata": {
    "collapsed": false,
    "slideshow": {
     "slide_type": "fragment"
    }
   },
   "outputs": [
    {
     "name": "stdout",
     "output_type": "stream",
     "text": [
      "<type 'tuple'>\n",
      "<type 'tuple'>\n",
      "<type 'tuple'>\n"
     ]
    }
   ],
   "source": [
    "t = tuple()\n",
    "print type(t)\n",
    "\n",
    "t = (1,2,\"tak\")\n",
    "print type(t)\n",
    "\n",
    "t = tuple([1,2,3,\"nie\"])\n",
    "print type(t)\n"
   ]
  },
  {
   "cell_type": "markdown",
   "metadata": {
    "slideshow": {
     "slide_type": "slide"
    }
   },
   "source": [
    "# Słownik"
   ]
  },
  {
   "cell_type": "markdown",
   "metadata": {
    "slideshow": {
     "slide_type": "fragment"
    }
   },
   "source": [
    "Jest to para uporządkowana <b>(unikatowy klucz, wartość)</b>. <br>\n",
    "Dostęp do komórki - poprzez podanie wartości <b>klucza</b>."
   ]
  },
  {
   "cell_type": "markdown",
   "metadata": {
    "slideshow": {
     "slide_type": "fragment"
    }
   },
   "source": [
    "## deklaracja słownika "
   ]
  },
  {
   "cell_type": "code",
   "execution_count": 49,
   "metadata": {
    "collapsed": false,
    "slideshow": {
     "slide_type": "fragment"
    }
   },
   "outputs": [
    {
     "name": "stdout",
     "output_type": "stream",
     "text": [
      "<type 'dict'>\n",
      "{'klucz1': 'zamek1', 'klucz2': 'zamek2'}\n",
      "dwa\n"
     ]
    }
   ],
   "source": [
    "d = dict()\n",
    "d2 = {}\n",
    "print type(d)\n",
    "d['klucz1']='zamek1'\n",
    "d['klucz2']='zamek2'\n",
    "print d\n",
    "d2[1] = \"jeden\"\n",
    "d2[2] = \"dwa\"\n",
    "d2[3] = \"trzy\"\n",
    "print d2[2]"
   ]
  },
  {
   "cell_type": "markdown",
   "metadata": {
    "slideshow": {
     "slide_type": "subslide"
    }
   },
   "source": [
    "## operacje na słownikach"
   ]
  },
  {
   "cell_type": "code",
   "execution_count": 62,
   "metadata": {
    "collapsed": false,
    "slideshow": {
     "slide_type": "fragment"
    }
   },
   "outputs": [
    {
     "name": "stdout",
     "output_type": "stream",
     "text": [
      "['zombie', 1, 'klucz2', 0]\n",
      "['Chalmers', 'jeden', 'zamek2', 'nic']\n",
      "[('zombie', 'Chalmers'), (1, 'jeden'), ('klucz2', 'zamek2'), (0, 'nic')]\n",
      "jeden\n",
      "{'zombie': 'Chalmers', 1: 'jeden', 'klucz2': 'zamek2', 0: 'nic'}\n",
      "brak\n",
      "{'zombie': 'Chalmers', 1: 'jeden', 'klucz2': 'zamek2', 0: 'nic'}\n",
      "{'zombie': 'Chalmers', 1: 'sto', 'klucz2': 'zamek2', 0: 'nic'}\n"
     ]
    }
   ],
   "source": [
    "# operacje na słowniku\n",
    "d = {1:\"jeden\", \"klucz2\":\"zamek2\", \"zombie\":\"Chalmers\",0:\"nic\"}\n",
    "print d.keys()\n",
    "print d.values()\n",
    "print d.items() # zwraca krotki (klucz,wartosc)\n",
    "\n",
    "print d.get(1,\"brak\") #jeśli nie znajdzie 1 to zwróci \"brak\"\n",
    "print d\n",
    "print d.get(2,\"brak\")\n",
    "print d\n",
    "\n",
    "d[1]=\"sto\"\n",
    "zprint d"
   ]
  },
  {
   "cell_type": "code",
   "execution_count": 15,
   "metadata": {
    "collapsed": false,
    "slideshow": {
     "slide_type": "fragment"
    }
   },
   "outputs": [
    {
     "name": "stdout",
     "output_type": "stream",
     "text": [
      "zombie Chalmers\n",
      "1 jeden\n",
      "klucz2 zamek2\n",
      "0 nic\n"
     ]
    }
   ],
   "source": [
    "# iteracje po słownikach\n",
    "d = {1:\"jeden\", \"klucz2\":\"zamek2\", \"zombie\":\"Chalmers\",0:\"nic\"}\n",
    "\n",
    "for k, v in d.iteritems():\n",
    "    print k, v"
   ]
  },
  {
   "cell_type": "markdown",
   "metadata": {
    "slideshow": {
     "slide_type": "subslide"
    }
   },
   "source": [
    "## Zadanie Słownik\n",
    "\n",
    "Napisz program, który będzie prostym słownikiem polsko-angielskim.\n",
    "Powinien zawierać co najmniej 10 rekordów.\n",
    "\n",
    "Następnie użyj słownika oraz wypisz wszystkie jego pozycje.\n",
    "\n",
    "* Zrób słownik odwrotny, ale tak, żeby nie pisać rekordów jeszcze raz:)"
   ]
  },
  {
   "cell_type": "markdown",
   "metadata": {
    "collapsed": true,
    "slideshow": {
     "slide_type": "slide"
    }
   },
   "source": [
    "# Zbiory"
   ]
  },
  {
   "cell_type": "markdown",
   "metadata": {
    "slideshow": {
     "slide_type": "fragment"
    }
   },
   "source": [
    "<b>nieuporządkowany</b> zestaw różnych obiektów\n",
    "<br>\n",
    "kolekcja <b>niepowtarzających</b> się komponentów bez wyróżnionej kolejności."
   ]
  },
  {
   "cell_type": "markdown",
   "metadata": {
    "slideshow": {
     "slide_type": "fragment"
    }
   },
   "source": [
    "## deklaracja zbioru"
   ]
  },
  {
   "cell_type": "code",
   "execution_count": 4,
   "metadata": {
    "collapsed": false,
    "slideshow": {
     "slide_type": "fragment"
    }
   },
   "outputs": [
    {
     "name": "stdout",
     "output_type": "stream",
     "text": [
      "<type 'set'>\n",
      "<type 'dict'>\n",
      "<type 'set'>\n",
      "set([1, 2, 'trzy', 2.8])\n"
     ]
    }
   ],
   "source": [
    "s = set()\n",
    "print type(s)\n",
    "\n",
    "s1 = {}\n",
    "print type(s1)\n",
    "\n",
    "s2 = {1, 2, \"trzy\", 2.8, True, 1} # przy wypełnianiu mamy dwa razy wartość 1\n",
    "print type(s2)\n",
    "print s2"
   ]
  },
  {
   "cell_type": "markdown",
   "metadata": {
    "slideshow": {
     "slide_type": "subslide"
    }
   },
   "source": [
    "## operacje na zbiorach"
   ]
  },
  {
   "cell_type": "code",
   "execution_count": 30,
   "metadata": {
    "collapsed": false,
    "slideshow": {
     "slide_type": "fragment"
    }
   },
   "outputs": [
    {
     "name": "stdout",
     "output_type": "stream",
     "text": [
      "set(['dwa', 'trzy', 'jeden'])\n",
      "None\n",
      "None\n",
      "set(['trzy', 'jeden'])\n",
      "None\n",
      "set(['cztery'])\n",
      "set(['cztery'])\n",
      "set(['dwa', 'cztery', 'jeden'])\n",
      "set(['dwa', 'cztery', 'jeden'])\n",
      "set(['jeden'])\n",
      "set(['jeden'])\n",
      "set(['cztery', 'dwa', 'jeden'])\n"
     ]
    }
   ],
   "source": [
    "s = {\"dwa\",\"trzy\"}\n",
    "s.add(\"jeden\")\n",
    "print s\n",
    "print s.discard(\"dwa\") # wyrzuca element\n",
    "print s.discard(\"z\")\n",
    "print s\n",
    "print s.remove(\"trzy\")\n",
    "# print s.remove(\"z\") # wyrzuca element, jesli jest - jesli nie ma to zwraca blad\n"
   ]
  },
  {
   "cell_type": "code",
   "execution_count": 31,
   "metadata": {
    "collapsed": false,
    "slideshow": {
     "slide_type": "subslide"
    }
   },
   "outputs": [
    {
     "name": "stdout",
     "output_type": "stream",
     "text": [
      "set(['cztery'])\n",
      "set(['cztery'])\n",
      "set(['dwa', 'cztery', 'jeden'])\n",
      "set(['dwa', 'cztery', 'jeden'])\n",
      "set(['jeden'])\n",
      "set(['jeden'])\n",
      "set(['dwa', 'cztery', 'jeden'])\n"
     ]
    }
   ],
   "source": [
    "s = {\"jeden\"}\n",
    "s.add(\"cztery\")\n",
    "s2 = {\"jeden\",\"dwa\"}\n",
    "# roznica\n",
    "print s-s2\n",
    "print s.difference(s2)\n",
    "# suma\n",
    "print s|s2\n",
    "print s.union(s2)\n",
    "# przeciecie\n",
    "print s&s2\n",
    "print s.intersection(s2)\n",
    "# \n",
    "s.update(s2)\n",
    "print s"
   ]
  },
  {
   "cell_type": "markdown",
   "metadata": {
    "slideshow": {
     "slide_type": "slide"
    }
   },
   "source": [
    "# Podsumowanie"
   ]
  },
  {
   "cell_type": "markdown",
   "metadata": {
    "slideshow": {
     "slide_type": "fragment"
    }
   },
   "source": [
    "Nazwa|Deklaracja|Dodawanie|Usuwanie|Kolejność|Inne\n",
    "-|-|-|-|-|-\n",
    "Lista|list(),[ ]|append(), extend(), insert(i, v)|del lista[i]|T|pop(x)\n",
    "Słownik|dict(), { }, {k:v, ...}|d[k]=v|del d[k]|N\n",
    "Zbiór|set(), {v1, v2...}|add(x)|s.discard(x)|N\n"
   ]
  },
  {
   "cell_type": "markdown",
   "metadata": {
    "slideshow": {
     "slide_type": "slide"
    }
   },
   "source": [
    "# Zadania"
   ]
  },
  {
   "cell_type": "markdown",
   "metadata": {
    "slideshow": {
     "slide_type": "fragment"
    }
   },
   "source": [
    "* Napisz program, który będzie prostym słownikiem polsko-angielskim. Powinien zawierać co najmniej 10 rekordów. Następnie użyj słownika oraz wypisz wszystkie jego pozycje.\n",
    " (*) Zrób słownik odwrotny, ale tak, żeby nie pisać rekordów jeszcze raz:)\n",
    " \n",
    "\n",
    "* Stwórz funckje, która jako argument będzie przyjmować listę, w ciele funkcji będzie wypisywać posortowane wartości oraz wypisywać jej wartości w odwróconej kolejności.\n",
    "    Ponadto funkcja powinna wypisać tę samą listę co na wejściu, ale posortowaną i z usuniętymi duplikatami\n",
    "\n",
    "\n",
    "* Stwórz funkcję, której jako argument będzie podawać się pewną liczbę, natomiast funkcja będzie wypisywać użyte w niej liczby (np. IN = 1, OUT = \"jeden\"; IN=23, OUT = \"dwa trzy\")\n",
    "\n",
    "\n",
    "* Stwórz plany dla kierunków studiów - kognitywistyka (filozofia, metodologia, rozwojowka, psychologia, sztyczna inteligencja), filozofia (filozofia, etyka, historia), psychologia (metodologia, psychologia, rozwojówka, etyka).\n",
    "    Wypisz dla wszystkich par zbiorów (oraz wszystkich zbiorów) ich: część wspólną, przecięcie, różnicę. Ponadto stwórz zbiór zawierający wszystkie przedmioty oferowane przez ten wydział.\n",
    "\n"
   ]
  }
 ],
 "metadata": {
  "celltoolbar": "Slideshow",
  "kernelspec": {
   "display_name": "Python 2",
   "language": "python",
   "name": "python2"
  },
  "language_info": {
   "codemirror_mode": {
    "name": "ipython",
    "version": 2
   },
   "file_extension": ".py",
   "mimetype": "text/x-python",
   "name": "python",
   "nbconvert_exporter": "python",
   "pygments_lexer": "ipython2",
   "version": "2.7.10"
  }
 },
 "nbformat": 4,
 "nbformat_minor": 0
}
