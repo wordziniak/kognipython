{
 "cells": [
  {
   "cell_type": "markdown",
   "metadata": {
    "slideshow": {
     "slide_type": "slide"
    }
   },
   "source": [
    "# Zajęcia 3 (2015-12-14)\n",
    "\n"
   ]
  },
  {
   "cell_type": "markdown",
   "metadata": {
    "slideshow": {
     "slide_type": "fragment"
    }
   },
   "source": [
    "## czego dziś się nauczymy?\n",
    "\n",
    "* działania na String\n",
    "* programowanie obiektowe:\n",
    "    - deklaracja\n",
    "    - atrybuty\n",
    "    - konstruktor\n",
    "    - metody\n",
    "* zarezerwowane nazwy metod\n",
    "* dziedziczenie:\n",
    "    - co to i jak to działa?"
   ]
  },
  {
   "cell_type": "markdown",
   "metadata": {
    "slideshow": {
     "slide_type": "slide"
    }
   },
   "source": [
    "# String - dodatkowe operacje"
   ]
  },
  {
   "cell_type": "code",
   "execution_count": 105,
   "metadata": {
    "collapsed": false,
    "slideshow": {
     "slide_type": "fragment"
    }
   },
   "outputs": [
    {
     "name": "stdout",
     "output_type": "stream",
     "text": [
      "o\n",
      "k\n",
      "k\n",
      "m\n",
      "mek\n",
      "otek cie n\n"
     ]
    }
   ],
   "source": [
    "s = \"Totolotek cie nie buja, ty mu stowe, on ci... buduje obiekty sportowe... - Tomasz Jachimek\"\n",
    "\n",
    "print s[1] # liczymy od 0\n",
    "\n",
    "print s[-1:] # wiele odpowiedzi z prac domowych zawierało taki zapis - po co?\n",
    "print s[-1]\n",
    "print s[-3] # różnica \n",
    "print s[-3:]\n",
    "\n",
    "print s[5:15] # s[poczatek:koniec]"
   ]
  },
  {
   "cell_type": "code",
   "execution_count": 23,
   "metadata": {
    "collapsed": false,
    "slideshow": {
     "slide_type": "subslide"
    }
   },
   "outputs": [
    {
     "name": "stdout",
     "output_type": "stream",
     "text": [
      "ceneb\n",
      "Ttltkcenebj,t usoe nc..bdj bet proe.  oazJcie\n",
      "o  w.oo-a\n"
     ]
    }
   ],
   "source": [
    "s = \"Totolotek cie nie buja, ty mu stowe, on ci... buduje obiekty sportowe... - Tomasz Jachimek\"\n",
    "\n",
    "print s[10:20:2] # s[poczatek:koniec:krok]\n",
    "\n",
    "print s[::2] # s[0:len(s):2]\n",
    "print s[3::10]\n",
    "\n",
    "#itd..."
   ]
  },
  {
   "cell_type": "markdown",
   "metadata": {
    "slideshow": {
     "slide_type": "subslide"
    }
   },
   "source": [
    "## dodatkowe funkcje"
   ]
  },
  {
   "cell_type": "code",
   "execution_count": 70,
   "metadata": {
    "collapsed": false,
    "slideshow": {
     "slide_type": "fragment"
    }
   },
   "outputs": [
    {
     "name": "stdout",
     "output_type": "stream",
     "text": [
      "Totolotek cie nie buja, ty mu stowe, on ci... buduje obiekty sportowe... - Tomasz Jachimek\n",
      "['Totolotek', 'cie', 'nie', 'buja,', 'ty', 'mu', 'stowe,', 'on', 'ci...', 'buduje', 'obiekty', 'sportowe...', '-', 'Tomasz', 'Jachimek']\n",
      "['Totolotek cie nie buja', ' ty mu stowe', ' on ci... buduje obiekty sportowe... - Tomasz Jachimek']\n",
      "['Totolotek cie nie buja, ty mu stowe, on ci', ' buduje obiekty sportowe', ' - Tomasz Jachimek']\n",
      "['T', 't', 'l', 'tek cie nie buja, ty mu st', 'we, ', 'n ci... buduje ', 'biekty sp', 'rtowe... - Tomasz Jachimek']\n"
     ]
    }
   ],
   "source": [
    "s = \"Totolotek cie nie buja, ty mu stowe, on ci... buduje obiekty sportowe... - Tomasz Jachimek\"\n",
    "\n",
    "\n",
    "# rozdzielanie\n",
    "print s\n",
    "print s.split() # tworzy liste slow - na postawie spacji\n",
    "print s.split(\",\") # tworzy liste fraz - rozdzielonych ,\n",
    "print s.split(\"...\") # tworzy liste fraz - rozdzielonych ...\n",
    "print s.split(\"o\",7) # tworzy listę 7 fraz - podzielonych lierka o -> s.split(\"co\", ile)"
   ]
  },
  {
   "cell_type": "code",
   "execution_count": 80,
   "metadata": {
    "collapsed": false,
    "slideshow": {
     "slide_type": "subslide"
    }
   },
   "outputs": [
    {
     "name": "stdout",
     "output_type": "stream",
     "text": [
      "Totolotek cie nie buja, ty mu stowe, on ci... buduje obiekty sportowe... - Tomasz Jachimek\n",
      "['Totolotek', 'cie', 'nie', 'buja,', 'ty', 'mu', 'stowe,', 'on', 'ci...', 'buduje', 'obiekty', 'sportowe...', '-', 'Tomasz', 'Jachimek']\n",
      "Hello!world\n",
      "HelloALA MA KOTAworld\n",
      "Totolotek||cie||nie||buja,||ty||mu||stowe,||on||ci...||buduje||obiekty||sportowe...||-||Tomasz||Jachimek\n"
     ]
    }
   ],
   "source": [
    "s = \"Totolotek cie nie buja, ty mu stowe, on ci... buduje obiekty sportowe... - Tomasz Jachimek\"\n",
    "s1 = ['Totolotek', 'cie', 'nie', 'buja,', 'ty', 'mu', 'stowe,', 'on', 'ci...', 'buduje', 'obiekty', 'sportowe...', '-', 'Tomasz', 'Jachimek']\n",
    "print s\n",
    "print s1\n",
    "\n",
    "# \"czym\".join(co)\n",
    "print \"!\".join([\"Hello\",\"world\"])\n",
    "print \"ALA MA KOTA\".join([\"Hello\",\"world\"])\n",
    "\n",
    "# zamiast spacji - ||\n",
    "print \"||\".join(s.split())"
   ]
  },
  {
   "cell_type": "markdown",
   "metadata": {
    "slideshow": {
     "slide_type": "subslide"
    }
   },
   "source": [
    "## Zadanie\n",
    "\n",
    "Dla zdań \"Coco Chanel powiedziała kiedyś, że moda tworzy piękno, które szybko staje się brzydkie, a sztuka tworzy brzydotę, która stanie się piękna później.\" oraz \"Bernardo Bertolucci uważa, że kino jest wielką katedrą, do której ludzie przychodzą, by dzielić to samo marzenie.\"\n",
    "\n",
    "* wypisz na ekran:\n",
    "    * połączone oba zdania - wstawiając pomiędzy nimi emoticon\n",
    "    * podzielone zdania na wyrazy\n",
    "    * podzielone zdania na listę fraz rozdzieloną przecinkami\n",
    "    * co drugą literę z każdego zdania\n",
    "    * co piąrą literę - zaczynając od 3\n",
    "    * co trzecią literę zacznając 5, a kończąc na 30\n",
    "    * co drugi wyraz"
   ]
  },
  {
   "cell_type": "code",
   "execution_count": 49,
   "metadata": {
    "collapsed": false,
    "slideshow": {
     "slide_type": "subslide"
    }
   },
   "outputs": [
    {
     "name": "stdout",
     "output_type": "stream",
     "text": [
      "1 9\n",
      "2 True\n",
      "3 False\n",
      "4 True\n",
      "5 True\n",
      "6 True\n",
      "7 30\n",
      "8 79\n",
      "9 False\n",
      "10 True\n"
     ]
    }
   ],
   "source": [
    "s = \"Totolotek cie nie buja, ty mu stowe, on ci... buduje obiekty sportowe... - Tomasz Jachimek\"\n",
    "\n",
    "print 1, s.count(\"o\") # ilosc wystapien \"o\"\n",
    "\n",
    "print 2, s.endswith(\"ek\") # czy String konczy się \"ek\"\n",
    "print 3, s.endswith(\"ek\",5,17) # czy string s[5:17] konczy sie na \"ek\"\n",
    "print 4, s.endswith(\"nie\",5,17) # czy string s[:5:17] konczy sie na \"nie\"\n",
    "\n",
    "print 5, s.startswith(\"Totol\") # czy String zaczyna się od \"Totol\"\n",
    "print 6, s.startswith(\"cie\",10) # czy s[10:] zaczyna się od \"cie\"\n",
    "\n",
    "print 7, s.find(\"stowe\") # indeks gdzie zaczyna sie \"stowe\"\n",
    "print 8, s.rfind(\"s\") # indeks ostatniego uzycia \"s\"\n",
    "\n",
    "print 9, s.isalpha() # czy wszystkie znaki to litery\n",
    "print 10, s[0:5].isalpha()"
   ]
  },
  {
   "cell_type": "code",
   "execution_count": 50,
   "metadata": {
    "collapsed": false,
    "slideshow": {
     "slide_type": "subslide"
    }
   },
   "outputs": [
    {
     "name": "stdout",
     "output_type": "stream",
     "text": [
      "1 tOTOLOTEK CIE NIE BUJA, TY MU STOWE, ON CI... BUDUJE OBIEKTY SPORTOWE... - tOMASZ jACHIMEK\n",
      "2 Otolotek cie n\n",
      "3 False\n",
      "4 True\n",
      "5 False\n",
      "6 True\n",
      "7 False\n",
      "8 Totolotek ZMIANAe nie buja, ty mu stowe, on ZMIANA... buduje obiekty sportowe... - Tomasz Jachimek\n",
      "9 TO_OtO_OlO_Otek cie nie buja, ty mu stO_Owe, on ci... buduje obiekty sportowe... - Tomasz Jachimek\n"
     ]
    }
   ],
   "source": [
    "s = \"Totolotek cie nie buja, ty mu stowe, on ci... buduje obiekty sportowe... - Tomasz Jachimek\"\n",
    "\n",
    "print 1, s.swapcase() # male litery na duze i odwrotnie\n",
    "print 2, s[1:15].capitalize() # kopia napisu z 1 znakiem zmienionym na wielka litere\n",
    "\n",
    "print 3, s.islower() # czy wszystkie znaki to male litery\n",
    "print 4, s[1:5].islower()\n",
    "print 5, s.isupper() # czy wszystkie znaki to duze litery\n",
    "print 6, s[0].isupper()\n",
    "\n",
    "print 7, s.isspace() # czy wszystkie znaki sa biale\n",
    "\n",
    "print 8, s.replace(\"ci\",\"ZMIANA\") #zamienia \"ci\" na \"ZMIANA\"\n",
    "print 9, s.replace(\"o\",\"O_O\",4) # zmienia \"o\" w 4 pierwszysch wystapieniach na \"O_O\""
   ]
  },
  {
   "cell_type": "markdown",
   "metadata": {
    "slideshow": {
     "slide_type": "slide"
    }
   },
   "source": [
    "# Obiekty"
   ]
  },
  {
   "cell_type": "markdown",
   "metadata": {
    "slideshow": {
     "slide_type": "fragment"
    }
   },
   "source": [
    "Teraz będzie mała powtórka, czym jest porgramowanie obiektowe:\n",
    "\n",
    "* abstrakcja - klasy są abstrakcyjnymi modelami obiektów\n",
    "    - opis istotnych cech - atrybutów\n",
    "    - opis przydatnych funkcji - metod\n",
    "* hermetyzacja (enkapsulacja) - ukrwanie implementacji\n",
    "    - obiekt zmienia tylko to, co wewnątrz niego\n",
    "    - innym obiektom obiekt udostrępnia interfejs\n",
    "* polimorfizm \n",
    "    - jedna metoda, może robić co innego - w zależności jakie argumenty jej przekażemy\n",
    "* dziedziczenie\n",
    "    - klasy mogą być bardziej lub mniej konkretne (np. ssaki i zwierzęta) - zamiast tworzyć osobne klasy rozszerzamy klase ogólniejszą o szczegóły nowej grupy obiektów\n"
   ]
  },
  {
   "cell_type": "markdown",
   "metadata": {
    "slideshow": {
     "slide_type": "subslide"
    }
   },
   "source": [
    "## deklaracja obiektu"
   ]
  },
  {
   "cell_type": "code",
   "execution_count": 41,
   "metadata": {
    "collapsed": false,
    "slideshow": {
     "slide_type": "fragment"
    }
   },
   "outputs": [
    {
     "name": "stdout",
     "output_type": "stream",
     "text": [
      "<__main__.Kwadrat instance at 0x7ff2ec313878>\n"
     ]
    }
   ],
   "source": [
    "# zaczniemy od kwadratu\n",
    "class Kwadrat: #class Kwadrat(object):\n",
    "    \"\"\"to jest klasa kwadratu\"\"\" #opis do dokumentacji\n",
    "\n",
    "kwa = Kwadrat() # stworzenie obiektu klasy kwadrat\n",
    "print kwa"
   ]
  },
  {
   "cell_type": "markdown",
   "metadata": {
    "slideshow": {
     "slide_type": "subslide"
    }
   },
   "source": [
    "## deklaracja obiektu i atrybuty"
   ]
  },
  {
   "cell_type": "code",
   "execution_count": 44,
   "metadata": {
    "collapsed": false,
    "slideshow": {
     "slide_type": "fragment"
    }
   },
   "outputs": [
    {
     "name": "stdout",
     "output_type": "stream",
     "text": [
      "<__main__.Kwadrat instance at 0x7ff2ec313ef0> 2\n"
     ]
    }
   ],
   "source": [
    "class Kwadrat: #class Kwadrat(object):\n",
    "    \"\"\"to jest klasa kwadratu\"\"\" #opis do dokumentacji\n",
    "    a = 2 # atrybut klasy Kwadrat - czyli dlugosci bokow a\n",
    "        \n",
    "kwa = Kwadrat() # stworzenie obiektu klasy kwadrat\n",
    "print kwa, kwa.a"
   ]
  },
  {
   "cell_type": "markdown",
   "metadata": {
    "slideshow": {
     "slide_type": "subslide"
    }
   },
   "source": [
    "## konstruktor"
   ]
  },
  {
   "cell_type": "code",
   "execution_count": 49,
   "metadata": {
    "collapsed": false,
    "slideshow": {
     "slide_type": "fragment"
    }
   },
   "outputs": [
    {
     "name": "stdout",
     "output_type": "stream",
     "text": [
      " <__main__.Kwadrat instance at 0x7ff2ec313c68> 2\n"
     ]
    }
   ],
   "source": [
    "class Kwadrat: #class Kwadrat(object):\n",
    "    \"\"\"to jest klasa kwadratu\"\"\" #opis do dokumentacji\n",
    "    def __init__(self):\n",
    "        self.a = 2 # atrybut klasy Kwadrat - czyli dlugosci bokow a\n",
    "        \n",
    "kwa = Kwadrat() # stworzenie obiektu klasy kwadrat\n",
    "print kwa, kwa.a"
   ]
  },
  {
   "cell_type": "code",
   "execution_count": 50,
   "metadata": {
    "collapsed": false,
    "slideshow": {
     "slide_type": "fragment"
    }
   },
   "outputs": [
    {
     "name": "stdout",
     "output_type": "stream",
     "text": [
      "<__main__.Kwadrat instance at 0x7ff2ec380290> 2\n",
      "<__main__.Kwadrat instance at 0x7ff2ec313518> 13\n"
     ]
    }
   ],
   "source": [
    "class Kwadrat: #class Prostokat(object):\n",
    "    \"\"\"to jest klasa kwadratu\"\"\" #opis do dokumentacji\n",
    "    def __init__(self, dl):\n",
    "        self.a = dl # atrybut klasy Kwadrat - czyli dlugosci bokow a\n",
    "        \n",
    "kwa = Kwadrat(2) # stworzenie obiektu klasy kwadrat\n",
    "kwa1 = Kwadrat(13)\n",
    "print kwa, kwa.a\n",
    "print kwa1, kwa1.a"
   ]
  },
  {
   "cell_type": "markdown",
   "metadata": {
    "slideshow": {
     "slide_type": "subslide"
    }
   },
   "source": [
    "## deklaracja obiektu, atrybuty i metoda"
   ]
  },
  {
   "cell_type": "code",
   "execution_count": 46,
   "metadata": {
    "collapsed": false,
    "slideshow": {
     "slide_type": "fragment"
    }
   },
   "outputs": [
    {
     "name": "stdout",
     "output_type": "stream",
     "text": [
      "<__main__.Kwadrat instance at 0x7ff2ec380488> 3\n",
      "9\n"
     ]
    }
   ],
   "source": [
    "class Kwadrat: #class Kwadrat(object):\n",
    "    \"\"\"to jest klasa kwadratu\"\"\" #opis do dokumentacji\n",
    "    def __init__(self, dl):\n",
    "        self.a = dl # atrybut klasy Kwadrat - czyli dlugosci bokow a\n",
    "        \n",
    "    def podaj_pole(self): # stworzenie metody (funkcji) zwracajacej pole kwadratu\n",
    "        return self.a**2\n",
    "    \n",
    "kwa = Kwadrat(3) # stworzenie obiektu klasy kwadrat\n",
    "print kwa, kwa.a\n",
    "print kwa.podaj_pole()"
   ]
  },
  {
   "cell_type": "markdown",
   "metadata": {
    "slideshow": {
     "slide_type": "subslide"
    }
   },
   "source": [
    "## Zadanie\n",
    "\n",
    "* stwórz klase Prostokat:\n",
    "    - konstruktor powinien przyjmować dwie liczby (długość boku a i b)\n",
    "    - zdefiniuj funkcje liczącą pole prostokąta oraz funkcje liczącą jego przekątną\n",
    "    - wypisz na ekran wyniki"
   ]
  },
  {
   "cell_type": "markdown",
   "metadata": {
    "slideshow": {
     "slide_type": "slide"
    }
   },
   "source": [
    "# Zarezerwowane nazwy metod\n"
   ]
  },
  {
   "cell_type": "code",
   "execution_count": 85,
   "metadata": {
    "collapsed": false,
    "slideshow": {
     "slide_type": "fragment"
    }
   },
   "outputs": [
    {
     "name": "stdout",
     "output_type": "stream",
     "text": [
      "to Kradrat o boku dlugosci 14\n",
      "to Kradrat o boku dlugosci 9\n",
      "False\n",
      "True\n",
      "None\n"
     ]
    }
   ],
   "source": [
    "class Kwadrat: #class Kwadrat(object):\n",
    "    \"\"\"to jest klasa kwadratu\"\"\" #opis do dokumentacji\n",
    "    \n",
    "    def __init__(self, dl):\n",
    "        self.a = dl # atrybut klasy Kwadrat - czyli dlugosci bokow a\n",
    "    \n",
    "    def __str__(self): # funkcja zostanie wywolana, jeśli bedziemy chcieli wypisac obiekt dsanej klasy\n",
    "        return \"to Kradrat o boku dlugosci \"+str(self.a)\n",
    "    \n",
    "    def __add__(self, atr): # dodawanie\n",
    "        if self.__class__ == atr.__class__:\n",
    "            return Kwadrat(self.a + atr.a)\n",
    "    \n",
    "    def __mul__(self, atr): # mnozenie\n",
    "        if self.__class__ == atr.__class__:\n",
    "            return Kwadrat(self.a * atr.a)\n",
    "        \n",
    "    #def __sub__(self, atr): # odejmowanie\n",
    "    #def __div__(self, atr): # dzielenie\n",
    "    \n",
    "    def __lt__ (self, atr): # x<y\n",
    "        if self.__class__ == atr.__class__:\n",
    "            if self.a**2 < atr.a**2:\n",
    "                return True\n",
    "            else:\n",
    "                return False\n",
    "        \n",
    "    # > to __gt__; <= to __le__; >= to __ge__; == to __eq__; != to __ne__          \n",
    "\n",
    "kwa = Kwadrat(7) \n",
    "kwa1 = Kwadrat(2)\n",
    "print kwa*kwa1\n",
    "print kwa+kwa1\n",
    "print kwa<kwa1\n",
    "print kwa1<kwa\n",
    "print kwa<\"tak\"\n"
   ]
  },
  {
   "cell_type": "markdown",
   "metadata": {
    "slideshow": {
     "slide_type": "fragment"
    }
   },
   "source": [
    "## Zadanie\n",
    "\n",
    "* napiszcie niezaimplementowane metody"
   ]
  },
  {
   "cell_type": "markdown",
   "metadata": {
    "slideshow": {
     "slide_type": "slide"
    }
   },
   "source": [
    "# Dziedziczenie"
   ]
  },
  {
   "cell_type": "markdown",
   "metadata": {
    "slideshow": {
     "slide_type": "fragment"
    }
   },
   "source": [
    "Ponieważ mamy kategorie ogólne i konkretniejsze - możemy zbudować ich hierarchie:\n",
    "\n",
    "np. figura geometryczna 2d > czworobok > prostokat > kwadrat\n",
    "\n",
    "Programowanie obiektowe, pozwala nam wykorzystać tę umiejętność ludzkiego rozumu"
   ]
  },
  {
   "cell_type": "code",
   "execution_count": 2,
   "metadata": {
    "collapsed": false,
    "slideshow": {
     "slide_type": "fragment"
    }
   },
   "outputs": [
    {
     "name": "stdout",
     "output_type": "stream",
     "text": [
      "to instancja klasy <class '__main__.Prostokat'> o bokach 1 : 2\n",
      "to instancja klasy <class '__main__.Kwadrat'> o bokach 3 : 3\n"
     ]
    }
   ],
   "source": [
    "class Prostokat(object):\n",
    "    \"\"\"klasa protokata\"\"\"\n",
    "    def __init__(self, bok_a, bok_b):\n",
    "        self.a = bok_a\n",
    "        self.b = bok_b\n",
    "    def __str__(self):\n",
    "        return \"to instancja klasy \"+str(self.__class__)+\" o bokach \"+str(self.a)+\" : \"+str(self.b)\n",
    "\n",
    "class Kwadrat(Prostokat):\n",
    "    \"\"\"Klasa kwadrata\"\"\"\n",
    "    def __init__(self, bok_a):\n",
    "        Prostokat.__init__(self,bok_a,bok_a)\n",
    "        \n",
    "prost = Prostokat(1,2)\n",
    "kwa = Kwadrat(3)\n",
    "print prost\n",
    "print kwa"
   ]
  },
  {
   "cell_type": "markdown",
   "metadata": {
    "slideshow": {
     "slide_type": "slide"
    }
   },
   "source": [
    "# Zadanie\n",
    "\n",
    "* Zbuduj klasy wg hierarchii:\n",
    "    - figury geometryczne 2d\n",
    "        - prosta\n",
    "        - trojkaty\n",
    "            - prostokątny\n",
    "            - równoramienny\n",
    "                - równoboczny\n",
    "        - czworoboki\n",
    "            - prostokat\n",
    "                - kwadrat\n",
    "            - równoległobok\n",
    "                - romb\n",
    "            - trapez\n",
    "* Stwórz listę, króra zawiera po jednym egzemplażu z każdej klasy\n",
    "    - wypisz (w pętli) w formacie: nazwa_klasy, długości_boków, obwód, pole_powierzchni\n",
    "    "
   ]
  }
 ],
 "metadata": {
  "celltoolbar": "Slideshow",
  "kernelspec": {
   "display_name": "Python 2",
   "language": "python",
   "name": "python2"
  },
  "language_info": {
   "codemirror_mode": {
    "name": "ipython",
    "version": 2
   },
   "file_extension": ".py",
   "mimetype": "text/x-python",
   "name": "python",
   "nbconvert_exporter": "python",
   "pygments_lexer": "ipython2",
   "version": "2.7.10"
  }
 },
 "nbformat": 4,
 "nbformat_minor": 0
}
