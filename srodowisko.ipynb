{
 "cells": [
  {
   "cell_type": "markdown",
   "metadata": {
    "slideshow": {
     "slide_type": "slide"
    }
   },
   "source": [
    "## Jupyter notebook - graficzna nakładka na Ipython?"
   ]
  },
  {
   "cell_type": "markdown",
   "metadata": {
    "slideshow": {
     "slide_type": "fragment"
    }
   },
   "source": [
    "* Nie tylko nakładka - umie ogarniać wiele rdzeni itp.\n",
    "* NIe tylko na pythona - ogarnia ~40 języków"
   ]
  },
  {
   "cell_type": "markdown",
   "metadata": {
    "slideshow": {
     "slide_type": "slide"
    }
   },
   "source": [
    "### Pogadajmy o samym Ipythonie"
   ]
  },
  {
   "cell_type": "markdown",
   "metadata": {
    "slideshow": {
     "slide_type": "fragment"
    }
   },
   "source": [
    "* Konsola interaktywna typu REPL (read–eval–print loop) \n",
    "* Sama w sobie dobra do pracy z pythonem\n",
    "* komenda %load\n",
    "* modul?"
   ]
  },
  {
   "cell_type": "markdown",
   "metadata": {
    "slideshow": {
     "slide_type": "slide"
    }
   },
   "source": [
    "## Komendy magiczne"
   ]
  },
  {
   "cell_type": "markdown",
   "metadata": {
    "slideshow": {
     "slide_type": "fragment"
    }
   },
   "source": [
    "* Jednolinijkowe\n",
    "* Na całą komórkę "
   ]
  },
  {
   "cell_type": "code",
   "execution_count": 15,
   "metadata": {
    "collapsed": false,
    "slideshow": {
     "slide_type": "subslide"
    }
   },
   "outputs": [
    {
     "data": {
      "application/json": {
       "cell": {
        "!": "OSMagics",
        "HTML": "Other",
        "SVG": "Other",
        "bash": "Other",
        "capture": "ExecutionMagics",
        "debug": "ExecutionMagics",
        "dot": "GraphvizMagic",
        "file": "Other",
        "html": "DisplayMagics",
        "javascript": "DisplayMagics",
        "latex": "DisplayMagics",
        "perl": "Other",
        "prun": "ExecutionMagics",
        "pypy": "Other",
        "python": "Other",
        "python2": "Other",
        "python3": "Other",
        "ruby": "Other",
        "script": "ScriptMagics",
        "sh": "Other",
        "svg": "DisplayMagics",
        "sx": "OSMagics",
        "system": "OSMagics",
        "time": "ExecutionMagics",
        "timeit": "ExecutionMagics",
        "writefile": "OSMagics"
       },
       "line": {
        "alias": "OSMagics",
        "alias_magic": "BasicMagics",
        "autocall": "AutoMagics",
        "automagic": "AutoMagics",
        "autosave": "KernelMagics",
        "bookmark": "OSMagics",
        "cat": "Other",
        "cd": "OSMagics",
        "clear": "KernelMagics",
        "colors": "BasicMagics",
        "config": "ConfigMagics",
        "connect_info": "KernelMagics",
        "cp": "Other",
        "debug": "ExecutionMagics",
        "dhist": "OSMagics",
        "dirs": "OSMagics",
        "doctest_mode": "BasicMagics",
        "ed": "Other",
        "edit": "KernelMagics",
        "env": "OSMagics",
        "gui": "BasicMagics",
        "hierarchy": "HierarchyMagic",
        "hist": "Other",
        "history": "HistoryMagics",
        "install_default_config": "DeprecatedMagics",
        "install_ext": "ExtensionMagics",
        "install_profiles": "DeprecatedMagics",
        "killbgscripts": "ScriptMagics",
        "ldir": "Other",
        "less": "KernelMagics",
        "lf": "Other",
        "lk": "Other",
        "ll": "Other",
        "load": "CodeMagics",
        "load_ext": "ExtensionMagics",
        "loadpy": "CodeMagics",
        "logoff": "LoggingMagics",
        "logon": "LoggingMagics",
        "logstart": "LoggingMagics",
        "logstate": "LoggingMagics",
        "logstop": "LoggingMagics",
        "ls": "Other",
        "lsmagic": "BasicMagics",
        "lx": "Other",
        "macro": "ExecutionMagics",
        "magic": "BasicMagics",
        "man": "KernelMagics",
        "matplotlib": "PylabMagics",
        "mkdir": "Other",
        "more": "KernelMagics",
        "mv": "Other",
        "notebook": "BasicMagics",
        "page": "BasicMagics",
        "pastebin": "CodeMagics",
        "pdb": "ExecutionMagics",
        "pdef": "NamespaceMagics",
        "pdoc": "NamespaceMagics",
        "pfile": "NamespaceMagics",
        "pinfo": "NamespaceMagics",
        "pinfo2": "NamespaceMagics",
        "popd": "OSMagics",
        "pprint": "BasicMagics",
        "precision": "BasicMagics",
        "profile": "BasicMagics",
        "prun": "ExecutionMagics",
        "psearch": "NamespaceMagics",
        "psource": "NamespaceMagics",
        "pushd": "OSMagics",
        "pwd": "OSMagics",
        "pycat": "OSMagics",
        "pylab": "PylabMagics",
        "qtconsole": "KernelMagics",
        "quickref": "BasicMagics",
        "recall": "HistoryMagics",
        "rehashx": "OSMagics",
        "reload_ext": "ExtensionMagics",
        "rep": "Other",
        "rerun": "HistoryMagics",
        "reset": "NamespaceMagics",
        "reset_selective": "NamespaceMagics",
        "rm": "Other",
        "rmdir": "Other",
        "run": "ExecutionMagics",
        "save": "CodeMagics",
        "sc": "OSMagics",
        "set_env": "OSMagics",
        "store": "StoreMagics",
        "sx": "OSMagics",
        "system": "OSMagics",
        "tb": "ExecutionMagics",
        "time": "ExecutionMagics",
        "timeit": "ExecutionMagics",
        "unalias": "OSMagics",
        "unload_ext": "ExtensionMagics",
        "who": "NamespaceMagics",
        "who_ls": "NamespaceMagics",
        "whos": "NamespaceMagics",
        "xdel": "NamespaceMagics",
        "xmode": "BasicMagics"
       }
      },
      "text/plain": [
       "Available line magics:\n",
       "%alias  %alias_magic  %autocall  %automagic  %autosave  %bookmark  %cat  %cd  %clear  %colors  %config  %connect_info  %cp  %debug  %dhist  %dirs  %doctest_mode  %ed  %edit  %env  %gui  %hierarchy  %hist  %history  %install_default_config  %install_ext  %install_profiles  %killbgscripts  %ldir  %less  %lf  %lk  %ll  %load  %load_ext  %loadpy  %logoff  %logon  %logstart  %logstate  %logstop  %ls  %lsmagic  %lx  %macro  %magic  %man  %matplotlib  %mkdir  %more  %mv  %notebook  %page  %pastebin  %pdb  %pdef  %pdoc  %pfile  %pinfo  %pinfo2  %popd  %pprint  %precision  %profile  %prun  %psearch  %psource  %pushd  %pwd  %pycat  %pylab  %qtconsole  %quickref  %recall  %rehashx  %reload_ext  %rep  %rerun  %reset  %reset_selective  %rm  %rmdir  %run  %save  %sc  %set_env  %store  %sx  %system  %tb  %time  %timeit  %unalias  %unload_ext  %who  %who_ls  %whos  %xdel  %xmode\n",
       "\n",
       "Available cell magics:\n",
       "%%!  %%HTML  %%SVG  %%bash  %%capture  %%debug  %%dot  %%file  %%html  %%javascript  %%latex  %%perl  %%prun  %%pypy  %%python  %%python2  %%python3  %%ruby  %%script  %%sh  %%svg  %%sx  %%system  %%time  %%timeit  %%writefile\n",
       "\n",
       "Automagic is ON, % prefix IS NOT needed for line magics."
      ]
     },
     "execution_count": 15,
     "metadata": {},
     "output_type": "execute_result"
    }
   ],
   "source": [
    "%lsmagic"
   ]
  },
  {
   "cell_type": "markdown",
   "metadata": {
    "slideshow": {
     "slide_type": "slide"
    }
   },
   "source": [
    "## Najważniejsze komendy"
   ]
  },
  {
   "cell_type": "code",
   "execution_count": null,
   "metadata": {
    "collapsed": true,
    "slideshow": {
     "slide_type": "fragment"
    }
   },
   "outputs": [],
   "source": [
    "% matplotlib inline - wykresy beda pokazywac sie w notatniku, a nie w nowych okienkach"
   ]
  },
  {
   "cell_type": "code",
   "execution_count": 2,
   "metadata": {
    "collapsed": false,
    "slideshow": {
     "slide_type": "subslide"
    }
   },
   "outputs": [
    {
     "data": {
      "text/plain": [
       "{'CINNAMON_VERSION': '2.2.16',\n",
       " 'CLICOLOR': '1',\n",
       " 'DBUS_SESSION_BUS_ADDRESS': 'unix:abstract=/tmp/dbus-tZHr1pB9nX,guid=793a9c95ab6bf86aa60b2cd056659dac',\n",
       " 'DESKTOP_SESSION': 'lightdm-xsession',\n",
       " 'DISPLAY': ':0',\n",
       " 'GDMSESSION': 'lightdm-xsession',\n",
       " 'GDM_LANG': 'en_US.utf8',\n",
       " 'GIT_PAGER': 'cat',\n",
       " 'GJS_DEBUG_OUTPUT': 'stderr',\n",
       " 'GJS_DEBUG_TOPICS': 'JS ERROR;JS LOG',\n",
       " 'GNOME_DESKTOP_SESSION_ID': 'this-is-deprecated',\n",
       " 'HOME': '/home/bkroczek',\n",
       " 'JPY_PARENT_PID': '30095',\n",
       " 'LANG': 'en_US.UTF-8',\n",
       " 'LANGUAGE': 'en_US:en',\n",
       " 'LOGNAME': 'bkroczek',\n",
       " 'PAGER': 'cat',\n",
       " 'PATH': '/usr/local/bin:/usr/bin:/bin:/usr/local/games:/usr/games',\n",
       " 'PWD': '/home/bkroczek',\n",
       " 'SESSION_MANAGER': 'local/bkroczek:@/tmp/.ICE-unix/1097,unix/bkroczek:/tmp/.ICE-unix/1097',\n",
       " 'SHELL': '/bin/bash',\n",
       " 'SSH_AGENT_PID': '1121',\n",
       " 'SSH_AUTH_SOCK': '/tmp/ssh-1HD29Hwvk2B2/agent.1097',\n",
       " 'TERM': 'xterm-color',\n",
       " 'USER': 'bkroczek',\n",
       " 'XAUTHORITY': '/home/bkroczek/.Xauthority',\n",
       " 'XDG_CURRENT_DESKTOP': 'X-Cinnamon',\n",
       " 'XDG_DATA_DIRS': '/usr/share/gnome:/usr/local/share/:/usr/share/',\n",
       " 'XDG_GREETER_DATA_DIR': '/var/lib/lightdm/data/bkroczek',\n",
       " 'XDG_RUNTIME_DIR': '/run/user/1000',\n",
       " 'XDG_SEAT': 'seat0',\n",
       " 'XDG_SEAT_PATH': '/org/freedesktop/DisplayManager/Seat0',\n",
       " 'XDG_SESSION_ID': '1',\n",
       " 'XDG_SESSION_PATH': '/org/freedesktop/DisplayManager/Session0',\n",
       " 'XDG_VTNR': '7'}"
      ]
     },
     "execution_count": 2,
     "metadata": {},
     "output_type": "execute_result"
    }
   ],
   "source": [
    "# Wypisuje zmienne srodowiskowe\n",
    "%env "
   ]
  },
  {
   "cell_type": "code",
   "execution_count": 3,
   "metadata": {
    "collapsed": false,
    "slideshow": {
     "slide_type": "subslide"
    }
   },
   "outputs": [
    {
     "name": "stdout",
     "output_type": "stream",
     "text": [
      "Analiza-SST  Posner-Matyjek  srodowisko.ipynb  Stroop_beh_backup\r\n",
      "notatki_ml   PPB\t     SST Sierpien 15\r\n"
     ]
    }
   ],
   "source": [
    "# ! wywoluje komende basha\n",
    "!ls"
   ]
  },
  {
   "cell_type": "code",
   "execution_count": 4,
   "metadata": {
    "collapsed": false,
    "slideshow": {
     "slide_type": "subslide"
    }
   },
   "outputs": [
    {
     "name": "stdout",
     "output_type": "stream",
     "text": [
      "Analiza-SST\n",
      "notatki_ml\n",
      "Posner-Matyjek\n",
      "PPB\n",
      "srodowisko.ipynb\n",
      "SST Sierpien 15\n",
      "Stroop_beh_backup\n"
     ]
    }
   ],
   "source": [
    "# Mozna przypisywac do zmiennej!\n",
    "curr_dir = !ls\n",
    "for item in curr_dir:\n",
    "    print item"
   ]
  },
  {
   "cell_type": "code",
   "execution_count": 5,
   "metadata": {
    "collapsed": false,
    "slideshow": {
     "slide_type": "subslide"
    }
   },
   "outputs": [
    {
     "name": "stdout",
     "output_type": "stream",
     "text": [
      "Cala\n",
      "komorka\n",
      "tez\n",
      "moze\n",
      "byc\n",
      "bashowa\n"
     ]
    }
   ],
   "source": [
    "%%bash\n",
    "for i in Cala komorka tez moze byc bashowa;\n",
    "do \n",
    "    echo $i\n",
    "done"
   ]
  },
  {
   "cell_type": "code",
   "execution_count": 6,
   "metadata": {
    "collapsed": false,
    "slideshow": {
     "slide_type": "subslide"
    }
   },
   "outputs": [
    {
     "name": "stdout",
     "output_type": "stream",
     "text": [
      "Ile trwalo wykonywanie komorki?\n",
      "CPU times: user 1.54 s, sys: 172 ms, total: 1.71 s\n",
      "Wall time: 1.68 s\n"
     ]
    }
   ],
   "source": [
    "%%time\n",
    "import random\n",
    "random.choice(map(lambda x: x**2, range(10000000)))\n",
    "print 'Ile trwalo wykonywanie komorki?'"
   ]
  },
  {
   "cell_type": "code",
   "execution_count": 7,
   "metadata": {
    "collapsed": false,
    "slideshow": {
     "slide_type": "subslide"
    }
   },
   "outputs": [
    {
     "name": "stdout",
     "output_type": "stream",
     "text": [
      "ile trwalo wykonywanie linijki, tylko jeden % !\n",
      "CPU times: user 0 ns, sys: 0 ns, total: 0 ns\n",
      "Wall time: 67 µs\n"
     ]
    },
    {
     "data": {
      "text/plain": [
       "429399741796"
      ]
     },
     "execution_count": 7,
     "metadata": {},
     "output_type": "execute_result"
    }
   ],
   "source": [
    "%time print 'ile trwalo wykonywanie linijki, tylko jeden % !'\n",
    "random.choice(map(lambda x: x**2, range(10000000)))"
   ]
  },
  {
   "cell_type": "code",
   "execution_count": 8,
   "metadata": {
    "collapsed": false,
    "slideshow": {
     "slide_type": "subslide"
    }
   },
   "outputs": [
    {
     "name": "stdout",
     "output_type": "stream",
     "text": [
      "The slowest run took 23.89 times longer than the fastest. This could mean that an intermediate result is being cached \n",
      "1000000 loops, best of 3: 1.05 µs per loop\n"
     ]
    }
   ],
   "source": [
    "%timeit random.randint(1,50)"
   ]
  },
  {
   "cell_type": "code",
   "execution_count": 9,
   "metadata": {
    "collapsed": false,
    "slideshow": {
     "slide_type": "subslide"
    }
   },
   "outputs": [
    {
     "data": {
      "text/latex": [
       "\\begin{align}\n",
       "\n",
       "a \\cdot x + b = 5\n",
       "\n",
       "\\end{align}"
      ],
      "text/plain": [
       "<IPython.core.display.Latex object>"
      ]
     },
     "metadata": {},
     "output_type": "display_data"
    }
   ],
   "source": [
    "%%latex\n",
    "\\begin{align}\n",
    "\n",
    "a \\cdot x + b = 5\n",
    "\n",
    "\\end{align}"
   ]
  },
  {
   "cell_type": "code",
   "execution_count": 3,
   "metadata": {
    "collapsed": false,
    "slideshow": {
     "slide_type": "subslide"
    }
   },
   "outputs": [
    {
     "data": {
      "text/html": [
       "<marquee behavior=\"slide\"><h1>HTML TEZ JEST SPOKO</h1></marquee>"
      ],
      "text/plain": [
       "<IPython.core.display.HTML object>"
      ]
     },
     "metadata": {},
     "output_type": "display_data"
    }
   ],
   "source": [
    "%%HTML\n",
    "<marquee behavior=\"slide\"><h1>HTML TEZ JEST SPOKO</h1></marquee>"
   ]
  },
  {
   "cell_type": "code",
   "execution_count": 11,
   "metadata": {
    "collapsed": false,
    "slideshow": {
     "slide_type": "subslide"
    }
   },
   "outputs": [
    {
     "name": "stdout",
     "output_type": "stream",
     "text": [
      "Variable   Type      Data/Info\n",
      "------------------------------\n",
      "a          list      n=10\n",
      "curr_dir   SList     ['Analiza-SST', 'notatki_<...>15', 'Stroop_beh_backup']\n",
      "item       str       Stroop_beh_backup\n",
      "random     module    <module 'random' from '/u<...>ib/python2.7/random.pyc'>\n"
     ]
    }
   ],
   "source": [
    "a = range(10)\n",
    "%whos"
   ]
  },
  {
   "cell_type": "markdown",
   "metadata": {
    "slideshow": {
     "slide_type": "slide"
    }
   },
   "source": [
    "## Można też ładować i instalować dodatki \n",
    "%load_ext"
   ]
  },
  {
   "cell_type": "code",
   "execution_count": 12,
   "metadata": {
    "collapsed": false,
    "slideshow": {
     "slide_type": "subslide"
    }
   },
   "outputs": [
    {
     "name": "stdout",
     "output_type": "stream",
     "text": [
      "Installed hierarchymagic.py. To use it, type:\n",
      "  %load_ext hierarchymagic\n"
     ]
    },
    {
     "name": "stderr",
     "output_type": "stream",
     "text": [
      "/usr/local/lib/python2.7/dist-packages/IPython/core/magics/extension.py:47: UserWarning: %install_ext` is deprecated, please distribute your extension(s)as a python packages.\n",
      "  \"as a python packages.\", UserWarning)\n"
     ]
    }
   ],
   "source": [
    "%install_ext https://raw.github.com/tkf/ipython-hierarchymagic/master/hierarchymagic.py"
   ]
  },
  {
   "cell_type": "code",
   "execution_count": 13,
   "metadata": {
    "collapsed": false,
    "slideshow": {
     "slide_type": "subslide"
    }
   },
   "outputs": [],
   "source": [
    "%load_ext hierarchymagic"
   ]
  },
  {
   "cell_type": "code",
   "execution_count": 17,
   "metadata": {
    "collapsed": false,
    "scrolled": true,
    "slideshow": {
     "slide_type": "subslide"
    }
   },
   "outputs": [
    {
     "ename": "OSError",
     "evalue": "[Errno 2] No such file or directory",
     "output_type": "error",
     "traceback": [
      "\u001b[1;31m---------------------------------------------------------------------------\u001b[0m",
      "\u001b[1;31mOSError\u001b[0m                                   Traceback (most recent call last)",
      "\u001b[1;32m<ipython-input-17-85053c0bddd5>\u001b[0m in \u001b[0;36m<module>\u001b[1;34m()\u001b[0m\n\u001b[1;32m----> 1\u001b[1;33m \u001b[0mget_ipython\u001b[0m\u001b[1;33m(\u001b[0m\u001b[1;33m)\u001b[0m\u001b[1;33m.\u001b[0m\u001b[0mrun_cell_magic\u001b[0m\u001b[1;33m(\u001b[0m\u001b[1;34mu'dot'\u001b[0m\u001b[1;33m,\u001b[0m \u001b[1;34mu''\u001b[0m\u001b[1;33m,\u001b[0m \u001b[1;34mu'\\ndigraph G { \\n    rankdir=LR;\\n    hello -> world;\\n    goodbye -> cruel -> world;\\n    world -> of -> warcraft;\\n}'\u001b[0m\u001b[1;33m)\u001b[0m\u001b[1;33m\u001b[0m\u001b[0m\n\u001b[0m",
      "\u001b[1;32m/usr/local/lib/python2.7/dist-packages/IPython/core/interactiveshell.pyc\u001b[0m in \u001b[0;36mrun_cell_magic\u001b[1;34m(self, magic_name, line, cell)\u001b[0m\n\u001b[0;32m   2291\u001b[0m             \u001b[0mmagic_arg_s\u001b[0m \u001b[1;33m=\u001b[0m \u001b[0mself\u001b[0m\u001b[1;33m.\u001b[0m\u001b[0mvar_expand\u001b[0m\u001b[1;33m(\u001b[0m\u001b[0mline\u001b[0m\u001b[1;33m,\u001b[0m \u001b[0mstack_depth\u001b[0m\u001b[1;33m)\u001b[0m\u001b[1;33m\u001b[0m\u001b[0m\n\u001b[0;32m   2292\u001b[0m             \u001b[1;32mwith\u001b[0m \u001b[0mself\u001b[0m\u001b[1;33m.\u001b[0m\u001b[0mbuiltin_trap\u001b[0m\u001b[1;33m:\u001b[0m\u001b[1;33m\u001b[0m\u001b[0m\n\u001b[1;32m-> 2293\u001b[1;33m                 \u001b[0mresult\u001b[0m \u001b[1;33m=\u001b[0m \u001b[0mfn\u001b[0m\u001b[1;33m(\u001b[0m\u001b[0mmagic_arg_s\u001b[0m\u001b[1;33m,\u001b[0m \u001b[0mcell\u001b[0m\u001b[1;33m)\u001b[0m\u001b[1;33m\u001b[0m\u001b[0m\n\u001b[0m\u001b[0;32m   2294\u001b[0m             \u001b[1;32mreturn\u001b[0m \u001b[0mresult\u001b[0m\u001b[1;33m\u001b[0m\u001b[0m\n\u001b[0;32m   2295\u001b[0m \u001b[1;33m\u001b[0m\u001b[0m\n",
      "\u001b[1;32m/home/bkroczek/.ipython/extensions/hierarchymagic.py\u001b[0m in \u001b[0;36mdot\u001b[1;34m(self, line, cell)\u001b[0m\n",
      "\u001b[1;32m/usr/local/lib/python2.7/dist-packages/IPython/core/magic.pyc\u001b[0m in \u001b[0;36m<lambda>\u001b[1;34m(f, *a, **k)\u001b[0m\n\u001b[0;32m    191\u001b[0m     \u001b[1;31m# but it's overkill for just that one bit of state.\u001b[0m\u001b[1;33m\u001b[0m\u001b[1;33m\u001b[0m\u001b[0m\n\u001b[0;32m    192\u001b[0m     \u001b[1;32mdef\u001b[0m \u001b[0mmagic_deco\u001b[0m\u001b[1;33m(\u001b[0m\u001b[0marg\u001b[0m\u001b[1;33m)\u001b[0m\u001b[1;33m:\u001b[0m\u001b[1;33m\u001b[0m\u001b[0m\n\u001b[1;32m--> 193\u001b[1;33m         \u001b[0mcall\u001b[0m \u001b[1;33m=\u001b[0m \u001b[1;32mlambda\u001b[0m \u001b[0mf\u001b[0m\u001b[1;33m,\u001b[0m \u001b[1;33m*\u001b[0m\u001b[0ma\u001b[0m\u001b[1;33m,\u001b[0m \u001b[1;33m**\u001b[0m\u001b[0mk\u001b[0m\u001b[1;33m:\u001b[0m \u001b[0mf\u001b[0m\u001b[1;33m(\u001b[0m\u001b[1;33m*\u001b[0m\u001b[0ma\u001b[0m\u001b[1;33m,\u001b[0m \u001b[1;33m**\u001b[0m\u001b[0mk\u001b[0m\u001b[1;33m)\u001b[0m\u001b[1;33m\u001b[0m\u001b[0m\n\u001b[0m\u001b[0;32m    194\u001b[0m \u001b[1;33m\u001b[0m\u001b[0m\n\u001b[0;32m    195\u001b[0m         \u001b[1;32mif\u001b[0m \u001b[0mcallable\u001b[0m\u001b[1;33m(\u001b[0m\u001b[0marg\u001b[0m\u001b[1;33m)\u001b[0m\u001b[1;33m:\u001b[0m\u001b[1;33m\u001b[0m\u001b[0m\n",
      "\u001b[1;32m/home/bkroczek/.ipython/extensions/hierarchymagic.py\u001b[0m in \u001b[0;36mdot\u001b[1;34m(self, line, cell)\u001b[0m\n\u001b[0;32m    155\u001b[0m         \u001b[0margs\u001b[0m \u001b[1;33m=\u001b[0m \u001b[0mparse_argstring\u001b[0m\u001b[1;33m(\u001b[0m\u001b[0mself\u001b[0m\u001b[1;33m.\u001b[0m\u001b[0mdot\u001b[0m\u001b[1;33m,\u001b[0m \u001b[0mline\u001b[0m\u001b[1;33m)\u001b[0m\u001b[1;33m\u001b[0m\u001b[0m\n\u001b[0;32m    156\u001b[0m \u001b[1;33m\u001b[0m\u001b[0m\n\u001b[1;32m--> 157\u001b[1;33m         \u001b[0mimage\u001b[0m \u001b[1;33m=\u001b[0m \u001b[0mrun_dot\u001b[0m\u001b[1;33m(\u001b[0m\u001b[0mcell\u001b[0m\u001b[1;33m,\u001b[0m \u001b[0margs\u001b[0m\u001b[1;33m.\u001b[0m\u001b[0moptions\u001b[0m\u001b[1;33m,\u001b[0m \u001b[0mformat\u001b[0m\u001b[1;33m=\u001b[0m\u001b[0margs\u001b[0m\u001b[1;33m.\u001b[0m\u001b[0mformat\u001b[0m\u001b[1;33m)\u001b[0m\u001b[1;33m\u001b[0m\u001b[0m\n\u001b[0m\u001b[0;32m    158\u001b[0m \u001b[1;33m\u001b[0m\u001b[0m\n\u001b[0;32m    159\u001b[0m         \u001b[1;32mif\u001b[0m \u001b[0margs\u001b[0m\u001b[1;33m.\u001b[0m\u001b[0mformat\u001b[0m \u001b[1;33m==\u001b[0m \u001b[1;34m'png'\u001b[0m\u001b[1;33m:\u001b[0m\u001b[1;33m\u001b[0m\u001b[0m\n",
      "\u001b[1;32m/home/bkroczek/.ipython/extensions/hierarchymagic.py\u001b[0m in \u001b[0;36mrun_dot\u001b[1;34m(code, options, format)\u001b[0m\n\u001b[0;32m    113\u001b[0m                   creationflags=0x08000000)\n\u001b[0;32m    114\u001b[0m     \u001b[1;32melse\u001b[0m\u001b[1;33m:\u001b[0m\u001b[1;33m\u001b[0m\u001b[0m\n\u001b[1;32m--> 115\u001b[1;33m         \u001b[0mp\u001b[0m \u001b[1;33m=\u001b[0m \u001b[0mPopen\u001b[0m\u001b[1;33m(\u001b[0m\u001b[0mdot_args\u001b[0m\u001b[1;33m,\u001b[0m \u001b[0mstdout\u001b[0m\u001b[1;33m=\u001b[0m\u001b[0mPIPE\u001b[0m\u001b[1;33m,\u001b[0m \u001b[0mstdin\u001b[0m\u001b[1;33m=\u001b[0m\u001b[0mPIPE\u001b[0m\u001b[1;33m,\u001b[0m \u001b[0mstderr\u001b[0m\u001b[1;33m=\u001b[0m\u001b[0mPIPE\u001b[0m\u001b[1;33m)\u001b[0m\u001b[1;33m\u001b[0m\u001b[0m\n\u001b[0m\u001b[0;32m    116\u001b[0m     \u001b[0mwentwrong\u001b[0m \u001b[1;33m=\u001b[0m \u001b[0mFalse\u001b[0m\u001b[1;33m\u001b[0m\u001b[0m\n\u001b[0;32m    117\u001b[0m     \u001b[1;32mtry\u001b[0m\u001b[1;33m:\u001b[0m\u001b[1;33m\u001b[0m\u001b[0m\n",
      "\u001b[1;32m/usr/lib/python2.7/subprocess.pyc\u001b[0m in \u001b[0;36m__init__\u001b[1;34m(self, args, bufsize, executable, stdin, stdout, stderr, preexec_fn, close_fds, shell, cwd, env, universal_newlines, startupinfo, creationflags)\u001b[0m\n\u001b[0;32m    708\u001b[0m                                 \u001b[0mp2cread\u001b[0m\u001b[1;33m,\u001b[0m \u001b[0mp2cwrite\u001b[0m\u001b[1;33m,\u001b[0m\u001b[1;33m\u001b[0m\u001b[0m\n\u001b[0;32m    709\u001b[0m                                 \u001b[0mc2pread\u001b[0m\u001b[1;33m,\u001b[0m \u001b[0mc2pwrite\u001b[0m\u001b[1;33m,\u001b[0m\u001b[1;33m\u001b[0m\u001b[0m\n\u001b[1;32m--> 710\u001b[1;33m                                 errread, errwrite)\n\u001b[0m\u001b[0;32m    711\u001b[0m         \u001b[1;32mexcept\u001b[0m \u001b[0mException\u001b[0m\u001b[1;33m:\u001b[0m\u001b[1;33m\u001b[0m\u001b[0m\n\u001b[0;32m    712\u001b[0m             \u001b[1;31m# Preserve original exception in case os.close raises.\u001b[0m\u001b[1;33m\u001b[0m\u001b[1;33m\u001b[0m\u001b[0m\n",
      "\u001b[1;32m/usr/lib/python2.7/subprocess.pyc\u001b[0m in \u001b[0;36m_execute_child\u001b[1;34m(self, args, executable, preexec_fn, close_fds, cwd, env, universal_newlines, startupinfo, creationflags, shell, to_close, p2cread, p2cwrite, c2pread, c2pwrite, errread, errwrite)\u001b[0m\n\u001b[0;32m   1333\u001b[0m                         \u001b[1;32mraise\u001b[0m\u001b[1;33m\u001b[0m\u001b[0m\n\u001b[0;32m   1334\u001b[0m                 \u001b[0mchild_exception\u001b[0m \u001b[1;33m=\u001b[0m \u001b[0mpickle\u001b[0m\u001b[1;33m.\u001b[0m\u001b[0mloads\u001b[0m\u001b[1;33m(\u001b[0m\u001b[0mdata\u001b[0m\u001b[1;33m)\u001b[0m\u001b[1;33m\u001b[0m\u001b[0m\n\u001b[1;32m-> 1335\u001b[1;33m                 \u001b[1;32mraise\u001b[0m \u001b[0mchild_exception\u001b[0m\u001b[1;33m\u001b[0m\u001b[0m\n\u001b[0m\u001b[0;32m   1336\u001b[0m \u001b[1;33m\u001b[0m\u001b[0m\n\u001b[0;32m   1337\u001b[0m \u001b[1;33m\u001b[0m\u001b[0m\n",
      "\u001b[1;31mOSError\u001b[0m: [Errno 2] No such file or directory"
     ]
    }
   ],
   "source": [
    "%%dot\n",
    "\n",
    "digraph G { \n",
    "    rankdir=LR;\n",
    "    hello -> world;\n",
    "    goodbye -> cruel -> world;\n",
    "    world -> of -> warcraft;\n",
    "}\n"
   ]
  },
  {
   "cell_type": "code",
   "execution_count": 4,
   "metadata": {
    "collapsed": false,
    "slideshow": {
     "slide_type": "slide"
    }
   },
   "outputs": [
    {
     "data": {
      "text/plain": [
       "u'Hello, world! Hello, world! Hello, world! '"
      ]
     },
     "metadata": {},
     "output_type": "display_data"
    }
   ],
   "source": [
    "# Interactive forms\n",
    "\n",
    "\n",
    "from ipywidgets import interact\n",
    "\n",
    "@interact\n",
    "def echo(input=\"Hello, world!\", times=[1,5,1]):\n",
    "    return (input+\" \")*times\n",
    "\n"
   ]
  },
  {
   "cell_type": "code",
   "execution_count": 30,
   "metadata": {
    "collapsed": false,
    "scrolled": true,
    "slideshow": {
     "slide_type": "slide"
    }
   },
   "outputs": [
    {
     "data": {
      "text/html": [
       "\n",
       "        <iframe\n",
       "            width=\"100%\"\n",
       "            height=\"500\"\n",
       "            src=\"pivottablejs.html\"\n",
       "            frameborder=\"0\"\n",
       "            allowfullscreen\n",
       "        ></iframe>\n",
       "        "
      ],
      "text/plain": [
       "<IPython.lib.display.IFrame at 0x7f6ead507850>"
      ]
     },
     "execution_count": 30,
     "metadata": {},
     "output_type": "execute_result"
    }
   ],
   "source": [
    "# Dynamic talbes\n",
    "import pandas as pd\n",
    "df = pd.read_csv('mps.csv')\n",
    "\n",
    "from pivottablejs import pivot_ui\n",
    "pivot_ui(df)"
   ]
  },
  {
   "cell_type": "markdown",
   "metadata": {
    "slideshow": {
     "slide_type": "slide"
    }
   },
   "source": [
    "# Z jupytera mozna zrobic interaktywne GUI, jak sobie zamazymy\n",
    "http://blog.dominodatalab.com/interactive-dashboards-in-jupyter/"
   ]
  },
  {
   "cell_type": "markdown",
   "metadata": {
    "slideshow": {
     "slide_type": "slide"
    }
   },
   "source": [
    "## Mozna tez bawic sie stylami tabelek\n",
    "http://nbviewer.ipython.org/urls/gist.githubusercontent.com/TomAugspurger/a6877233fbbfb51512a9/raw/67c608f0fb9f8d05e65b6196aba65d2fcb821a8a/style.ipynb"
   ]
  },
  {
   "cell_type": "markdown",
   "metadata": {
    "slideshow": {
     "slide_type": "slide"
    }
   },
   "source": [
    "# Prezentacje w jupyter noteboook\n",
    "jupyter nbconvert srodowisko.ipynb --to html --post serve\n",
    "\n",
    "jupyter nbconvert srodowisko.ipynb --to slides --post serve\n"
   ]
  },
  {
   "cell_type": "markdown",
   "metadata": {
    "slideshow": {
     "slide_type": "slide"
    }
   },
   "source": [
    "# DATA SCIENCE GIT FLOW\n",
    "\n",
    "http://luisbg.blogalia.com//historias/76017"
   ]
  },
  {
   "cell_type": "markdown",
   "metadata": {
    "slideshow": {
     "slide_type": "subslide"
    }
   },
   "source": [
    "    Configure\n",
    "        git config –global user.name \"[name]\"\n",
    "            Sets the name you want attached to your commit transactions\n",
    "        git config –global user.email \"[email address]\"\n",
    "            Sets the email you want attached to your commit transactions\n",
    "        git config –global color.ui auto\n",
    "            Enables helpful colorization of command line output\n",
    "        git config –global push.default current\n",
    "            Update a branch with the same name as current branch if no refspec is given\n",
    "        git config –global core.editor [editor]\n",
    "            Which editor to use when commit and tag that lets you edit messages\n",
    "        git config –global diff.tool [tool]\n",
    "            Specify which command to invoke as the specified tool for git difftool\n",
    "\n",
    "    Create repositories\n",
    "        git init [project-name]\n",
    "            Creates a new local repository with the specified name\n",
    "        git clone [url]\n",
    "            Downloads a project nd its entire version history\n",
    "\n",
    "    Make changes\n",
    "        git status\n",
    "            Lists all new or modified files to be committed\n",
    "        git status -s\n",
    "            Short view of status\n",
    "        git diff\n",
    "            Shows file differences not yet staged\n",
    "        git add [file]\n",
    "            Snapshots the file in preparation for versioning\n",
    "        git add .\n",
    "            Add all modified files to be commited\n",
    "        git add '*.txt'\n",
    "            Add only certain files\n",
    "        git add –patch filename.x (or -p for short)\n",
    "            Snapshot only chunks of a file\n",
    "        git rm [file]\n",
    "            Tell git not to track the file anymore\n",
    "        git diff –staged\n",
    "            Show what has been added to the index via git add but not yet committed\n",
    "        git diff HEAD\n",
    "            Shows what has changed since the last commit.\n",
    "        git diff HEAD^\n",
    "            Shows what has changed since the commit before the latest commit\n",
    "        git diff [branch]\n",
    "            Compare current branch to some other branch\n",
    "        git difftool -d\n",
    "            Same as diff, but opens changes via difftool that you have configured\n",
    "        git difftool -d master..\n",
    "            See only changes made in the current branch\n",
    "        git diff –no-commit-id –name-only –no-merges origin/master…\n",
    "            See only the file names that has changed in current branch\n",
    "        git diff –stat\n",
    "            See statistics on what files have changed and how\n",
    "        git reset [file]\n",
    "            Unstages the file, but preserves its contents\n",
    "        git commit\n",
    "            Record changes to git. Default editor will open for a commit message\n",
    "        git commit -m \"[descriptive message]\"\n",
    "            Records file snapshots permanently in version history\n",
    "        git commit –amend\n",
    "            Changing the history, of the HEAD commit\n",
    "\n",
    "    Group changes\n",
    "        git branch\n",
    "            Lists all local branches in the current directory\n",
    "        git branch [branch-name]\n",
    "            Create a new branch\n",
    "        git checkout [branch-name]\n",
    "            Switches to the specified branch and updates the working directory\n",
    "        git checkout -b <name> <remote>/<branch>\n",
    "            Switches to a remote branch\n",
    "        git checkout [filename]\n",
    "            Return file to it's previous version, if it hasn’t been staged yet\n",
    "        git merge [branch]\n",
    "            Combines the specified branch's history into the current branch\n",
    "        git merge –no–ff [branch]\n",
    "            Merge branch without fast forwarding\n",
    "        git branch -a\n",
    "            See the full list of local and remote branches\n",
    "        git branch -d [branch]\n",
    "            Deletes the specified branch\n",
    "        git branch -D [branch]\n",
    "            Hard branch delete, will not complain\n",
    "        git branch -m <oldname> <newname>\n",
    "            Rename a branch\n",
    "\n",
    "    Refactor filenames\n",
    "        git rm [file]\n",
    "            Deletes the file from the working directory and stages the deletion\n",
    "        git rm –cached [file]\n",
    "            Removes the file from version control but preserves the file locally\n",
    "        git mv [file-original] [file-renamed]\n",
    "            Changes the file name and prepares it for commit\n",
    "\n",
    "    Suppress tracking\n",
    "        .gitignore\n",
    "            *.log\n",
    "            build/\n",
    "            temp-*\n",
    "            A text file named .gitignore suppresses accidental versioning of files and paths matching the specified patterns\n",
    "        git ls-files –other –ignored –exclude-standard\n",
    "            Lists all ignored files in this project\n",
    "\n",
    "    Save fragments\n",
    "        git stash\n",
    "            Temporarily stores all modified tracked files\n",
    "        git stash pop\n",
    "            Restores the most recently stashed files\n",
    "        git stash list\n",
    "            Lists all stashed changesets\n",
    "        git stash drop\n",
    "            Discards the most recently stashed changeset\n",
    "\n",
    "    Review history\n",
    "        git log\n",
    "            Lists version history for the current branch\n",
    "        git log –follow [file]\n",
    "            Lists version history for a file, including renames\n",
    "        git log –pretty=format:\"%h %s\" –graph\n",
    "            Pretty commit view, you can customize it as much as you want\n",
    "        git log –author='Name' –after={1.week.ago} –pretty=oneline –abbrev-commit\n",
    "            See what the author has worked on in the last week\n",
    "        git log –no-merges master..\n",
    "            See only changes in this branch\n",
    "        git diff [file-branch]…[second-branch]\n",
    "            Shows content differences between two branches\n",
    "        git show [commit]\n",
    "            Outputs metadata and content changes of the specified commit\n",
    "\n",
    "    Redo commits\n",
    "        git reset\n",
    "            Unstage pending changes, the changes will still remain on file system\n",
    "        git reset [commit/tag]\n",
    "            Undoes all commits after [commit], preserving changes locally\n",
    "        git reset –hard [commit]\n",
    "            Discards all history and changes back to the specified commit\n",
    "\n",
    "    Synchronize changes\n",
    "        git fetch [bookmark]\n",
    "            Downloads all history from the repository bookmark\n",
    "        git fetch -p\n",
    "            Update history of remote branches, you can fetch and purge\n",
    "        git merge [bookmark]/[branch]\n",
    "            Combines bookmark's branch into current local branch\n",
    "        git push\n",
    "            Push current branch to remote branch\n",
    "        git push [remote] [branch]\n",
    "            Manually specify remote and branch to use every time\n",
    "        git push -u origin master\n",
    "            If a remote branch is not set up as an upstream, you can make it so\n",
    "        git pull\n",
    "            Downloads bookmark history and incorporates changes\n",
    "        git pull [remote] [branch]\n",
    "            Specify to pull a specific branch\n",
    "        git remote\n",
    "            See list of remote repos available\n",
    "        git remote -v\n",
    "            Detailed view of remote repos available\n",
    "        git remote add [remote] [url]\n",
    "            Add a new remote\n",
    "\n"
   ]
  }
 ],
 "metadata": {
  "celltoolbar": "Slideshow",
  "kernelspec": {
   "display_name": "Python 2",
   "language": "python",
   "name": "python2"
  },
  "language_info": {
   "codemirror_mode": {
    "name": "ipython",
    "version": 2
   },
   "file_extension": ".py",
   "mimetype": "text/x-python",
   "name": "python",
   "nbconvert_exporter": "python",
   "pygments_lexer": "ipython2",
   "version": "2.7.9"
  }
 },
 "nbformat": 4,
 "nbformat_minor": 0
}
