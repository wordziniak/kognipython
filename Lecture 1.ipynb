{
 "worksheets": [
  {
   "cells": [
    {
     "cell_type": "heading",
     "metadata": {},
     "level": 1,
     "source": [
      "Zajecia I (2015-11-30)"
     ]
    },
    {
     "cell_type": "heading",
     "metadata": {},
     "level": 3,
     "source": [
      "Zanim zaczniemy..."
     ]
    },
    {
     "cell_type": "markdown",
     "metadata": {},
     "source": [
      "\t1. można (a może nawet należy) pobrać \"prezentację\"\n",
      "\t2. na początku będziemy mieć część \"teoretyczną\", gdzie postaramy się wyjaśnić, co i jak się robi w pythonie\n",
      "\t3. następnie będziemy mieli dla was parę zadań, które powinniście sami rozwiązać\n",
      "\t4. zadania, których nie zdążycie rozwiązać na zajęciach powinniście rozwiązać jako \"zadanie domowe\"\n",
      "\t5. wasze rozwiązania (jeden plik z rozwiązaniami) przesyłajcie na maila: kognipython@gmail.com\n",
      "\t6. gdyby coś było nie jasne, to od razu pytajcie!"
     ]
    },
    {
     "cell_type": "heading",
     "metadata": {},
     "level": 2,
     "source": [
      "Plan dzisiejszych zajęć"
     ]
    },
    {
     "cell_type": "markdown",
     "metadata": {},
     "source": [
      "\t1. Wyjście/wejście\n",
      "\t2. Operacje na liczbach\n",
      "\t3. Operacje na tekście\n",
      "\t4. Funkcje\n",
      "\t5. Instrukcje sterujące i pętle"
     ]
    },
    {
     "cell_type": "heading",
     "metadata": {},
     "level": 2,
     "source": [
      "1. Wyjście/Wejście"
     ]
    },
    {
     "cell_type": "markdown",
     "metadata": {},
     "source": [
      "Tradycji musi stać się zadość, dlatego programowanie zaczynamy od wypisania na ekran komunikatu:\n",
      "<br><br><br>\n",
      "<i>\"Witaj Świecie!\"</i>"
     ]
    },
    {
     "cell_type": "markdown",
     "metadata": {},
     "source": [
      "Użyjemy do tego zdefiniowanej już w pythonie funkcji:\n",
      "<br>\n",
      "<b>print()</b> - wypisuje nam swoje argumenty na standardowe wyjście (czyli np. ekran)"
     ]
    },
    {
     "cell_type": "code",
     "execution_count": null,
     "metadata": {},
     "outputs": [
      {
       "output_type": "stream",
       "stream": "stdout",
       "text": [
        "Witaj Świecie!\n"
       ]
      }
     ],
     "input": [
      "print (\"Witaj Świecie!\")"
     ],
     "language": "python",
     "prompt_number": 4
    },
    {
     "cell_type": "markdown",
     "metadata": {},
     "source": [
      "Żeby było bardziej kognitywnie- chcielibyśmy, żeby nasz program pobierał informacje ze świata.\n",
      "\n",
      "W tym celu możemy wykorzystać komendę <b>raw_input()</b> - która pobiera informacje z klawiatury."
     ]
    },
    {
     "cell_type": "code",
     "execution_count": null,
     "metadata": {},
     "outputs": [],
     "input": [
      "print (raw_input())"
     ],
     "language": "python"
    },
    {
     "cell_type": "markdown",
     "metadata": {},
     "source": [
      "Do funkcji <b>raw_input()</b> możemy przekazać komunikat, który chcielibyśmy, żeby wyświetlił się na ekranie przed pobraniem informacji od użytkownika.\n",
      "\n",
      "Przykładowo, jeśli chcemy, żeby użytkownik coś wpisał, to możemy go poinstruować w poniżej przedstawiony sposób:"
     ]
    },
    {
     "cell_type": "code",
     "execution_count": null,
     "metadata": {},
     "outputs": [],
     "input": [
      "print (raw_input(\"Wpisz cos \"))"
     ],
     "language": "python"
    },
    {
     "cell_type": "heading",
     "metadata": {},
     "level": 2,
     "source": [
      "2. Operacje na liczbach"
     ]
    },
    {
     "cell_type": "heading",
     "metadata": {},
     "level": 3,
     "source": [
      "Operacje na liczbach całkowitych"
     ]
    },
    {
     "cell_type": "code",
     "execution_count": null,
     "metadata": {},
     "outputs": [
      {
       "output_type": "stream",
       "stream": "stdout",
       "text": [
        "45\n",
        "5\n",
        "-1\n",
        "0\n",
        "4\n",
        "9\n"
       ]
      }
     ],
     "input": [
      "print 45\n",
      "print (2+3)\n",
      "print (3-4)\n",
      "print (5/8) # !!!\n",
      "print (2*2)\n",
      "print (3**2)"
     ],
     "language": "python",
     "prompt_number": 22
    },
    {
     "cell_type": "markdown",
     "metadata": {},
     "source": [
      "Uwaga - <u>w 4 linijce jest błąd!</u>"
     ]
    },
    {
     "cell_type": "markdown",
     "metadata": {},
     "source": [
      "W pythonie mamy dostępne pewne typy danych: <br><br>\n",
      "<b>int</b> - (integer) czyli liczby całkowite: <br>\n",
      "\t... -100, -99, -98,..., -2, -1, 0, 1, 2, ..., 98, 99, 100... <br><br>\n",
      "<b>float</b> - floating point to liczby rzeczywiste (zmiennoprzecinkowe): <br>\n",
      "\t1 * 10, 0.2 = 1*10^-1 <br><br>\n",
      "<b>long</b> - czyli długie liczby (gdy typ int to za mało)"
     ]
    },
    {
     "cell_type": "code",
     "execution_count": null,
     "metadata": {},
     "outputs": [
      {
       "output_type": "stream",
       "stream": "stdout",
       "text": [
        "9223372036854775807\n",
        "sys.float_info(max=1.7976931348623157e+308, max_exp=1024, max_10_exp=308, min=2.2250738585072014e-308, min_exp=-1021, min_10_exp=-307, dig=15, mant_dig=53, epsilon=2.220446049250313e-16, radix=2, rounds=1)\n",
        "sys.long_info(bits_per_digit=30, sizeof_digit=4)\n"
       ]
      }
     ],
     "input": [
      "import sys\n",
      "print sys.maxint\n",
      "print sys.float_info\n",
      "print sys.long_info"
     ],
     "language": "python",
     "prompt_number": 29
    },
    {
     "cell_type": "heading",
     "metadata": {},
     "level": 3,
     "source": [
      "Operacje na liczbach rzeczywistych"
     ]
    },
    {
     "cell_type": "code",
     "execution_count": null,
     "metadata": {},
     "outputs": [
      {
       "output_type": "stream",
       "stream": "stdout",
       "text": [
        "0.5\n",
        "7.9\n",
        "-1.7\n",
        "0.625\n",
        "17.5\n",
        "10.89\n"
       ]
      }
     ],
     "input": [
      "print 0.5\n",
      "print (2.7+5.2)\n",
      "print (3-4.7)\n",
      "print (5.0/8) # !!!\n",
      "print (2.5*7)\n",
      "print (3.3**2)"
     ],
     "language": "python",
     "prompt_number": 33
    },
    {
     "cell_type": "heading",
     "metadata": {},
     "level": 3,
     "source": [
      "Rzutowanie"
     ]
    },
    {
     "cell_type": "markdown",
     "metadata": {},
     "source": [
      "<b>Rzutowanie</b> to przepisanie zmiennej jednego typu na inny typ, <br> \n",
      "\t<t>ale <b>zwracajcie uwagę na kolejność</b>"
     ]
    },
    {
     "cell_type": "code",
     "execution_count": null,
     "metadata": {},
     "outputs": [
      {
       "output_type": "stream",
       "stream": "stdout",
       "text": [
        "0\n",
        "0.0\n",
        "0.6\n",
        "1.14\n",
        "1\n"
       ]
      }
     ],
     "input": [
      "print 3/5\n",
      "print float(3/5)\n",
      "print (float(3)/5)\n",
      "print (5.7/5)\n",
      "print int(5.7/5)"
     ],
     "language": "python",
     "prompt_number": 46
    },
    {
     "cell_type": "heading",
     "metadata": {},
     "level": 3,
     "source": [
      "Zmienna"
     ]
    },
    {
     "cell_type": "markdown",
     "metadata": {},
     "source": [
      "<b>Zmienna</b> = miejsce, gdzie komputer przechowyje dane"
     ]
    },
    {
     "cell_type": "code",
     "execution_count": null,
     "metadata": {},
     "outputs": [
      {
       "output_type": "stream",
       "stream": "stdout",
       "text": [
        "Witaj Swiecie\n"
       ]
      }
     ],
     "input": [
      "a = \"Witaj Swiecie\"\n",
      "print a"
     ],
     "language": "python",
     "prompt_number": 47
    },
    {
     "cell_type": "heading",
     "metadata": {},
     "level": 3,
     "source": [
      "Małe zadanie?"
     ]
    },
    {
     "cell_type": "markdown",
     "metadata": {},
     "source": [
      "Napisz program, któremu (1) podasz z klawiatury liczbę, którą zapiszesz ją do zmiennej np. <b>x</b>,\n",
      "a komputer (2) policzy jego potęge kwadratową (czyli <b>x^2</b>) i (3) wypisze ją na ekran."
     ]
    },
    {
     "cell_type": "code",
     "execution_count": null,
     "metadata": {},
     "outputs": [
      {
       "output_type": "stream",
       "stream": "stdout",
       "text": [
        "w ipythonie nie będzie to tak łatwo działać!\n"
       ]
      }
     ],
     "input": [
      "print \"w ipythonie nie będzie to tak łatwo działać!\""
     ],
     "language": "python",
     "prompt_number": 49
    },
    {
     "cell_type": "heading",
     "metadata": {},
     "level": 2,
     "source": [
      "3. Operacje na tekście"
     ]
    },
    {
     "cell_type": "markdown",
     "metadata": {},
     "source": [
      "Napisy możemy podawać na (co najmniej) 3 sposoby:"
     ]
    },
    {
     "cell_type": "code",
     "execution_count": null,
     "metadata": {},
     "outputs": [
      {
       "output_type": "stream",
       "stream": "stdout",
       "text": [
        "to jest łańcuch znaków (string)\n",
        "to jest łancuch znaków (string)\n",
        "to jest łańcuch znaków (string)\n",
        "    pozwalający na pisanie w wielu linijkach\n"
       ]
      }
     ],
     "input": [
      "print \"to jest łańcuch znaków (string)\"\n",
      "print 'to jest łancuch znaków (string)'\n",
      "print \"\"\"to jest łańcuch znaków (string)\n",
      "    pozwalający na pisanie w wielu linijkach\"\"\""
     ],
     "language": "python",
     "prompt_number": 92
    },
    {
     "cell_type": "code",
     "execution_count": null,
     "metadata": {},
     "outputs": [
      {
       "output_type": "stream",
       "stream": "stdout",
       "text": [
        "a jeśli chcemy użyć znaków specjalnych (np. '), to najpierw wpisujemy '\\' \n"
       ]
      }
     ],
     "input": [
      "print \"a jeśli chcemy użyć znaków specjalnych (np. \\'), to najpierw wpisujemy \\'\\\\\\' \""
     ],
     "language": "python",
     "prompt_number": 58
    },
    {
     "cell_type": "markdown",
     "metadata": {},
     "source": [
      "Łańcuchy znaków możemy:"
     ]
    },
    {
     "cell_type": "code",
     "execution_count": null,
     "metadata": {},
     "outputs": [
      {
       "output_type": "stream",
       "stream": "stdout",
       "text": [
        "dodawać do zmiennych i nie widać różnicy\n"
       ]
      }
     ],
     "input": [
      "a = \"dodawać \"\n",
      "b = \"różnicy\"\n",
      "print a + \"do zmiennych \" + \"i nie widać \" +b"
     ],
     "language": "python",
     "prompt_number": 87
    },
    {
     "cell_type": "code",
     "execution_count": null,
     "metadata": {},
     "outputs": [
      {
       "output_type": "stream",
       "stream": "stdout",
       "text": [
        "indeks 1 = b\n",
        "indeks zerowy = a\n"
       ]
      }
     ],
     "input": [
      "napis = \"abcdefghijklmnoprstuwxyz\"\n",
      "# wyciąganie pojedyńczych literek!\n",
      "print \"indeks 1 = \" + napis[1]\n",
      "print \"indeks zerowy = \" + napis[0]"
     ],
     "language": "python",
     "prompt_number": 88
    },
    {
     "cell_type": "code",
     "execution_count": null,
     "metadata": {},
     "outputs": [
      {
       "output_type": "stream",
       "stream": "stdout",
       "text": [
        "znaki do indeksu 4 = abcd\n",
        "3 ostatnie znaki = xyz\n",
        "i w środku = efghij\n",
        "co druga litera = acegikmortwy\n",
        "co druga litera od b = bdfhjlnpsuxz\n",
        "co trzecia litera = adgjmptx\n"
       ]
      }
     ],
     "input": [
      "napis = \"abcdefghijklmnoprstuwxyz\"\n",
      "# wybieranie części znaków\n",
      "print \"znaki do indeksu 4 = \" + napis[:4] # 4 pierwsze\n",
      "print \"3 ostatnie znaki = \" + napis[-3:] # 3 ostatnie\n",
      "print \"i w środku = \" + napis[4:10]\n",
      "print \"co druga litera = \" + napis[::2]\n",
      "print \"co druga litera od b = \"+ napis[1::2]\n",
      "print \"co trzecia litera = \" +napis [::3]"
     ],
     "language": "python",
     "prompt_number": 8
    },
    {
     "cell_type": "code",
     "execution_count": null,
     "metadata": {},
     "outputs": [
      {
       "ename": "TypeError",
       "evalue": "cannot concatenate 'str' and 'int' objects",
       "output_type": "pyerr",
       "traceback": [
        "\u001b[0;31m---------------------------------------------------------------------------\u001b[0m\n\u001b[0;31mTypeError\u001b[0m                                 Traceback (most recent call last)",
        "\u001b[0;32m<ipython-input-90-6c982d0a8dd4>\u001b[0m in \u001b[0;36m<module>\u001b[0;34m()\u001b[0m\n\u001b[1;32m      1\u001b[0m \u001b[0mx\u001b[0m \u001b[0;34m=\u001b[0m \u001b[0;36m10\u001b[0m\u001b[0;34m\u001b[0m\u001b[0m\n\u001b[1;32m      2\u001b[0m \u001b[0mnapis\u001b[0m \u001b[0;34m=\u001b[0m \u001b[0;34m\"to jest liczba \"\u001b[0m\u001b[0;34m\u001b[0m\u001b[0m\n\u001b[0;32m----> 3\u001b[0;31m \u001b[0;32mprint\u001b[0m \u001b[0mnapis\u001b[0m \u001b[0;34m+\u001b[0m \u001b[0mx\u001b[0m\u001b[0;34m\u001b[0m\u001b[0m\n\u001b[0m",
        "\u001b[0;31mTypeError\u001b[0m: cannot concatenate 'str' and 'int' objects"
       ]
      }
     ],
     "input": [
      "x = 10\n",
      "napis = \"to jest liczba \"\n",
      "print napis + x"
     ],
     "language": "python",
     "prompt_number": 90
    },
    {
     "cell_type": "markdown",
     "metadata": {},
     "source": [
      "Nie możemy natomiast dodawać innych typów do napisów :("
     ]
    },
    {
     "cell_type": "markdown",
     "metadata": {},
     "source": [
      "Chyba, że wykorzystamy przy tym <b>rzutowanie</b>!"
     ]
    },
    {
     "cell_type": "code",
     "execution_count": null,
     "metadata": {},
     "outputs": [
      {
       "output_type": "stream",
       "stream": "stdout",
       "text": [
        "to jest liczba 10\n"
       ]
      }
     ],
     "input": [
      "x = 10\n",
      "napis = \"to jest liczba \"\n",
      "print napis + str(x)"
     ],
     "language": "python",
     "prompt_number": 91
    },
    {
     "cell_type": "markdown",
     "metadata": {},
     "source": [
      "Podobnie w przypadku liczb zmiennoprzecinkowych i innych typów"
     ]
    },
    {
     "cell_type": "heading",
     "metadata": {},
     "level": 2,
     "source": [
      "4. Funkcje"
     ]
    },
    {
     "cell_type": "markdown",
     "metadata": {},
     "source": [
      "I tak doszliśmy do najważniejszego punktu dzisiejszych zajęć: tworzenia funkcji. <br>\n",
      "<b>Po co w ogóle tworzyć funkcje?</b><br> Przecież możemy pisać wszystko w konsoli/pliku/innym oknie dialogowym?"
     ]
    },
    {
     "cell_type": "markdown",
     "metadata": {},
     "source": [
      "<br><br>\n",
      "1. wieloktorne wykorzystanie tego samego kawałka kodu! <br>\n",
      "2. budowa złożonych programów, z prostszych do przeanalizowania oraz napisania \n",
      "3. czytelność"
     ]
    },
    {
     "cell_type": "code",
     "execution_count": null,
     "metadata": {},
     "outputs": [],
     "input": [
      "#definicja funkcji (musi być przed wywołaniem\n",
      "def nazwa (<argumenty>):\n",
      "    ciało funkcji\n",
      "    <return>\n",
      "\n",
      "#wywołanie funkcji\n",
      "nazwa()"
     ],
     "language": "python"
    },
    {
     "cell_type": "code",
     "execution_count": null,
     "metadata": {},
     "outputs": [
      {
       "output_type": "stream",
       "stream": "stdout",
       "text": [
        "Przykładowa funkcja\n"
       ]
      }
     ],
     "input": [
      "def przyklad (): #definicja\n",
      "    print \"Przykładowa funkcja\"\n",
      "\n",
      "przyklad() #wywołanie"
     ],
     "language": "python",
     "prompt_number": 97
    },
    {
     "cell_type": "code",
     "execution_count": null,
     "metadata": {},
     "outputs": [
      {
       "output_type": "stream",
       "stream": "stdout",
       "text": [
        "Cześć Ziutek!\n"
       ]
      }
     ],
     "input": [
      "def hello_name(imie):\n",
      "    print \"Cześć \"+str(imie)+\"!\"\n",
      "    \n",
      "hello_name(\"Ziutek\")"
     ],
     "language": "python",
     "prompt_number": 101
    },
    {
     "cell_type": "code",
     "execution_count": null,
     "metadata": {},
     "outputs": [
      {
       "output_type": "stream",
       "stream": "stdout",
       "text": [
        "kwadrat tej liczby to 9\n"
       ]
      },
      {
       "output_type": "pyout",
       "prompt_number": 102,
       "text": [
        "9"
       ],
       "metadata": {}
      }
     ],
     "input": [
      "#funkcje możemy zagnieżdzać\n",
      "def wypisz(cyfra): #zamieni nam liczbę na string\n",
      "    return str(cyfra)\n",
      "\n",
      "def kwadrat(liczba):\n",
      "    tmp= liczba ** 2\n",
      "    print \"kwadrat tej liczby to \"+wypisz(tmp)\n",
      "    return tmp\n",
      "\n",
      "kwadrat(3)"
     ],
     "language": "python",
     "prompt_number": 102
    },
    {
     "cell_type": "heading",
     "metadata": {},
     "level": 2,
     "source": [
      "5. Instrukcje sterujące i pętle"
     ]
    },
    {
     "cell_type": "markdown",
     "metadata": {},
     "source": [
      "Żeby funkcje robiły coś ciekawego, potrzebujemy jeszcze poznać instrukcje sterujące oraz typ danych logicznych- <b>Boolean</b>"
     ]
    },
    {
     "cell_type": "code",
     "execution_count": null,
     "metadata": {},
     "outputs": [
      {
       "output_type": "stream",
       "stream": "stdout",
       "text": [
        "True\n",
        "False\n",
        "False\n",
        "True\n",
        "True\n",
        "True\n",
        "False\n",
        "False\n",
        "True\n"
       ]
      }
     ],
     "input": [
      "print True\n",
      "print False\n",
      "print 2==3\n",
      "print 3==3\n",
      "print 3<>2\n",
      "print 3!=2\n",
      "print 2!=2\n",
      "print 3<>3\n",
      "print 3>2\n",
      "print 3<2"
     ],
     "language": "python",
     "prompt_number": 103
    },
    {
     "cell_type": "code",
     "execution_count": null,
     "metadata": {},
     "outputs": [
      {
       "output_type": "stream",
       "stream": "stdout",
       "text": [
        "True\n",
        "False\n",
        "True\n",
        "False\n",
        "True\n",
        "True\n",
        "False\n",
        "A=65  B=66  Z=90  a=97  b=98  z=122\n"
       ]
      }
     ],
     "input": [
      "print \"tak\"==\"tak\"\n",
      "print \"tak\"==\"nie\"\n",
      "print \"tak\"!=\"nie\"\n",
      "\n",
      "print \"a\">\"b\"\n",
      "print \"a\"<\"b\"\n",
      "print \"a\">\"B\"\n",
      "print \"a\"<\"B\"\n",
      "\n",
      "# ord() zwraca reprezentacje unikodowego znaku\n",
      "print \"A=\"+str(ord(\"A\"))+\"  B=\" + str(ord(\"B\")) +\"  Z=\"+str(ord(\"Z\"))+\"  a=\"+str(ord(\"a\"))+\"  b=\"+str(ord(\"b\"))+\"  z=\"+str(ord(\"z\"))"
     ],
     "language": "python",
     "prompt_number": 136
    },
    {
     "cell_type": "code",
     "execution_count": null,
     "metadata": {},
     "outputs": [
      {
       "output_type": "stream",
       "stream": "stdout",
       "text": [
        "False\n",
        "False\n",
        "False\n"
       ]
      }
     ],
     "input": [
      "print 1==3 or 1!=1\n",
      "print 1==1 and 3==1\n",
      "print not(1==1)"
     ],
     "language": "python",
     "prompt_number": 211
    },
    {
     "cell_type": "code",
     "execution_count": null,
     "metadata": {},
     "outputs": [
      {
       "output_type": "stream",
       "stream": "stdout",
       "text": [
        "to te same zmienne!\n",
        "to te same zmienne!\n",
        "te zmienne się różnią\n"
       ]
      }
     ],
     "input": [
      "def compare(zmienna1, zmienna2):\n",
      "    if(str(zmienna1)==str(zmienna2)):\n",
      "        print \"to te same zmienne!\"\n",
      "    else:\n",
      "        print \"te zmienne się różnią\"\n",
      "\n",
      "compare(1,\"1\")\n",
      "compare(2,2)\n",
      "compare(\"3\",2)"
     ],
     "language": "python",
     "prompt_number": 139
    },
    {
     "cell_type": "code",
     "execution_count": null,
     "metadata": {},
     "outputs": [
      {
       "output_type": "stream",
       "stream": "stdout",
       "text": [
        "zmienna jest większa od zera\n",
        "1\n",
        "zmienna jest mniejsza od zera\n",
        "-1\n",
        "to zero!\n",
        "0\n",
        "zmienna jest większa od zera\n",
        "liczba 3 = 1\n",
        "zmienna jest większa od zera\n",
        "liczba 2 = 1\n",
        "zmienna jest większa od zera\n",
        "liczba 3 = 1\n",
        "zmienna jest większa od zera\n",
        "liczba 2 = 1\n",
        "zmienna jest mniejsza od zera\n",
        "liczba -5 = -1\n",
        "zmienna jest mniejsza od zera\n",
        "liczba -4 = -1\n",
        "zmienna jest większa od zera\n",
        "liczba 2 = 1\n",
        "zmienna jest mniejsza od zera\n",
        "liczba -5 = -1\n",
        "zmienna jest mniejsza od zera\n",
        "liczba -3 = -1\n"
       ]
      }
     ],
     "input": [
      "import random\n",
      "\n",
      "def compare_zero(zmienna):\n",
      "    tmp = float(zmienna)\n",
      "    if(tmp==0.0):\n",
      "        print \"to zero!\"\n",
      "        return 0\n",
      "    elif(tmp>0.0):\n",
      "        print \"zmienna jest większa od zera\"\n",
      "        return 1\n",
      "    else:\n",
      "        print \"zmienna jest mniejsza od zera\"\n",
      "        return -1\n",
      "    \n",
      "\n",
      "print compare_zero(1.7)\n",
      "print compare_zero(\"-5\")\n",
      "print compare_zero(0)\n",
      "\n",
      "\n",
      "for i in range(1,10):\n",
      "    losowa = random.randint(-5,5)\n",
      "    print \"liczba \"+str(losowa) + \" = \" + str(compare_zero(losowa))"
     ],
     "language": "python",
     "prompt_number": 161
    },
    {
     "cell_type": "markdown",
     "metadata": {},
     "source": [
      "Właśnie poznaliśmy <b>pętle for</b>:"
     ]
    },
    {
     "cell_type": "code",
     "execution_count": null,
     "metadata": {},
     "outputs": [],
     "input": [
      "for element in lista:\n",
      "    ciało pętli"
     ],
     "language": "python"
    },
    {
     "cell_type": "code",
     "execution_count": null,
     "metadata": {},
     "outputs": [
      {
       "output_type": "stream",
       "stream": "stdout",
       "text": [
        "kolejna litera to :P\n",
        "kolejna litera to :y\n",
        "kolejna litera to :t\n",
        "kolejna litera to :h\n",
        "kolejna litera to :o\n",
        "kolejna litera to :n\n"
       ]
      }
     ],
     "input": [
      "for litera in 'Python':\n",
      "   print 'kolejna litera to :'+ litera"
     ],
     "language": "python",
     "prompt_number": 163
    },
    {
     "cell_type": "code",
     "execution_count": null,
     "metadata": {},
     "outputs": [
      {
       "output_type": "stream",
       "stream": "stdout",
       "text": [
        "Wyniki to:\n",
        "24\n",
        "7\n",
        "25\n",
        "11\n",
        "40\n",
        "9\n"
       ]
      }
     ],
     "input": [
      "import random\n",
      "\n",
      "\n",
      "def losuj(wyniki):\n",
      "    for indeks in range(6):\n",
      "        wyniki.append(random.randint(1,48)) #włącznie\n",
      "        \n",
      "def wypisz(wyniki):\n",
      "    print \"Wyniki to:\"\n",
      "    for liczba in wyniki:\n",
      "        print liczba\n",
      "\n",
      "lotto =[]\n",
      "losuj(lotto)\n",
      "wypisz(lotto)"
     ],
     "language": "python",
     "prompt_number": 185
    },
    {
     "cell_type": "markdown",
     "metadata": {},
     "source": [
      "Ostatni punkt na dziś - <b>pętla while</b>"
     ]
    },
    {
     "cell_type": "code",
     "execution_count": null,
     "metadata": {},
     "outputs": [],
     "input": [
      "while warunek:\n",
      "    ciało pętli\n",
      "        <break>"
     ],
     "language": "python"
    },
    {
     "cell_type": "code",
     "execution_count": null,
     "metadata": {},
     "outputs": [
      {
       "output_type": "stream",
       "stream": "stdout",
       "text": [
        "0 1 2 3 4 5 6 7 8 9 10 11 12 13 14 15 16 17 18 19 20 21 22 23 24 25 26 27 28 29 30 31 32 33 34 35 36 37 38 39 40 41 42 43 44 45 46 47 48 49 niestety nie udało się w 50 losowaniach\n"
       ]
      }
     ],
     "input": [
      "import random\n",
      "\n",
      "mojaLiczba = 45\n",
      "\n",
      "def zgadnij_liczbe(liczba):\n",
      "    losowaLiczba = random.randint(0,100)\n",
      "    licznik =0;\n",
      "    while (liczba != losowaLiczba):\n",
      "        losowaLiczba=random.randint(0,100)\n",
      "        print licznik,\n",
      "        licznik +=1\n",
      "        if(licznik==50):\n",
      "            break;\n",
      "    if(licznik==50):\n",
      "        print(\"niestety nie udało się w 50 losowaniach\")\n",
      "    else:\n",
      "        print(\"Twja liczba to\" + str(losowaLiczba))\n",
      "        \n",
      "zgadnij_liczbe(mojaLiczba)"
     ],
     "language": "python",
     "prompt_number": 206
    },
    {
     "cell_type": "heading",
     "metadata": {},
     "level": 1,
     "source": [
      "Zadania"
     ]
    },
    {
     "cell_type": "markdown",
     "metadata": {},
     "source": [
      "1. Napisz program, który po uruchomieniu pyta Cię o imię, a następnie wyświetla komunikat z powitaniem.\n",
      "    "
     ]
    },
    {
     "cell_type": "markdown",
     "metadata": {},
     "source": [
      "2. Zmodyfikuj wcześniejszy program tak, żeby rozpoznawał płeć użytkownika i nas o tym informował."
     ]
    },
    {
     "cell_type": "markdown",
     "metadata": {},
     "source": [
      "3. Napisz funkcję, która na wejściu będzie przyjmować dwie liczby (a,b) i wypisze ich: dodawanie (a+b), odejmowanie (a-b, b-a), mnożenie (a*b), dzielenie (a/b oraz b/a), potęgowanie (a^b i b^a)."
     ]
    },
    {
     "cell_type": "markdown",
     "metadata": {},
     "source": [
      "4. Napisz program, który będzie losował pewną liczbę z zakresu od 1 do 50, a użytkownik bedzie zgadywał jaka to liczba.\n",
      "Gracz powinien mieć 4 próby, a po każdej powinien dostać informację, czy liczba zgadywana jest większa, czy mniejsza od podanej przez gracza.\n",
      "Oczywiście o wygranej gracz również powinien wiedzieć"
     ]
    }
   ]
  }
 ],
 "cells": [],
 "metadata": {
  "celltoolbar": "Slideshow",
  "signature": "sha256:0524f129e7f3183692cbfc27c7e30759d2e6f2f421085faf74a0138ca4b02dcb"
 },
 "nbformat": 3,
 "nbformat_minor": 0
}