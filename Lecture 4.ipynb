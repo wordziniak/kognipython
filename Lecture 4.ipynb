{
 "cells": [
  {
   "cell_type": "markdown",
   "metadata": {
    "slideshow": {
     "slide_type": "slide"
    }
   },
   "source": [
    "# Zajęcia 4 (2016-01-11)\n"
   ]
  },
  {
   "cell_type": "markdown",
   "metadata": {
    "slideshow": {
     "slide_type": "fragment"
    }
   },
   "source": [
    "## czego dziś się nauczymy?\n",
    "\n",
    "\n",
    "* dziedziczenie\n",
    "* pola i metody prywatne\n",
    "* pola i metody statyczne\n",
    "    "
   ]
  },
  {
   "cell_type": "markdown",
   "metadata": {
    "slideshow": {
     "slide_type": "slide"
    }
   },
   "source": [
    "# Obiekty"
   ]
  },
  {
   "cell_type": "markdown",
   "metadata": {
    "slideshow": {
     "slide_type": "fragment"
    }
   },
   "source": [
    "Teraz będzie mała powtórka, czym jest porgramowanie obiektowe:\n",
    "\n",
    "* abstrakcja - klasy są abstrakcyjnymi modelami obiektów\n",
    "    - opis istotnych cech - atrybutów\n",
    "    - opis przydatnych funkcji - metod\n",
    "* hermetyzacja (enkapsulacja) - ukrwanie implementacji\n",
    "    - obiekt zmienia tylko to, co wewnątrz niego\n",
    "    - innym obiektom obiekt udostrępnia interfejs\n",
    "* polimorfizm \n",
    "    - jedna metoda, może robić co innego - w zależności jakie argumenty jej przekażemy\n",
    "* dziedziczenie\n",
    "    - klasy mogą być bardziej lub mniej konkretne (np. ssaki i zwierzęta) - zamiast tworzyć osobne klasy rozszerzamy klase ogólniejszą o szczegóły nowej grupy obiektów\n"
   ]
  },
  {
   "cell_type": "markdown",
   "metadata": {
    "slideshow": {
     "slide_type": "slide"
    }
   },
   "source": [
    "# Dziedziczenie"
   ]
  },
  {
   "cell_type": "markdown",
   "metadata": {
    "slideshow": {
     "slide_type": "fragment"
    }
   },
   "source": [
    "Ponieważ mamy kategorie ogólne i konkretniejsze - możemy zbudować ich hierarchie:\n",
    "\n",
    "np. figura geometryczna 2d > czworobok > prostokat > kwadrat\n",
    "\n",
    "lub\n",
    "\n",
    "zwierzęta > ssaki > psy > spaniele > Reks\n",
    "\n",
    "Programowanie obiektowe, pozwala nam wykorzystać tę umiejętność ludzkiego rozumu"
   ]
  },
  {
   "cell_type": "code",
   "execution_count": 2,
   "metadata": {
    "collapsed": false,
    "slideshow": {
     "slide_type": "fragment"
    }
   },
   "outputs": [
    {
     "name": "stdout",
     "output_type": "stream",
     "text": [
      "to instancja klasy <class '__main__.Ssak'> o masie= 1 oraz wielkości= 2\n",
      "to instancja klasy <class '__main__.Pies'> o masie= 2 oraz wielkości= 3\n"
     ]
    }
   ],
   "source": [
    "class Ssak(object):\n",
    "    \"\"\"klasa ssakow\"\"\"\n",
    "    def __init__(self, masa, wielkosc):\n",
    "        self.masa = masa\n",
    "        self.wielkosc = wielkosc\n",
    "    def __str__(self):\n",
    "        return \"to instancja klasy \"+str(self.__class__)+\" o masie= \"+str(self.masa)+\" oraz wielkości= \"+str(self.wielkosc)\n",
    "\n",
    "class Pies(Ssak):\n",
    "    \"\"\"Klasa Psa\"\"\"\n",
    "    def __init__(self, masa, wielkosc, nazwa):\n",
    "        Ssak.__init__(self,masa,wielkosc)\n",
    "        self.nazwa = nazwa\n",
    "        \n",
    "ssak = Ssak(1,2)\n",
    "piesek = Pies(2,3,\"azor\")\n",
    "print ssak\n",
    "print piesek"
   ]
  },
  {
   "cell_type": "markdown",
   "metadata": {
    "slideshow": {
     "slide_type": "slide"
    }
   },
   "source": [
    "# Zadanie\n",
    "\n",
    "* Zbuduj klasy wg hierarchii:\n",
    "    - zwierzeta (masa, wiekosc, środowisko)\n",
    "        - ssaki\n",
    "            - psy \n",
    "            - koty\n",
    "            - kawie\n",
    "        - ptaki \n",
    "            - golebiowate\n",
    "            - nieloty\n",
    "        - ryby\n",
    "            - żółwie\n",
    "            - krokodyle\n",
    "            - jaszczurki\n",
    "            \n",
    "* Stwórz listę, króra zawiera po jednym egzemplażu z każdej klasy\n",
    "    - wypisz (w pętli) w formacie: nazwa_klasy, masa, wielkosc, środowisko [inne szczegolne]\n",
    "    "
   ]
  },
  {
   "cell_type": "markdown",
   "metadata": {
    "slideshow": {
     "slide_type": "slide"
    }
   },
   "source": [
    "# Atrybuty i metody prywatne"
   ]
  },
  {
   "cell_type": "markdown",
   "metadata": {
    "slideshow": {
     "slide_type": "fragment"
    }
   },
   "source": [
    "Prywatne, czyli jakie?\n",
    "<br><br>\n",
    "\"(...) hermetyzacja (enkapsulacja) - ukrwanie implementacji <br>\n",
    "    -obiekt zmienia tylko to, co wewnątrz niego <br>\n",
    "    -innym obiektom obiekt udostępnia interfejs (...)\" <br>\n",
    "<br><br>\n",
    "Chodzi na przykład o to, by żadna zewnątrzna klasa nie narobiła bałaganu wewnątrz naszych danych."
   ]
  },
  {
   "cell_type": "markdown",
   "metadata": {
    "slideshow": {
     "slide_type": "subslide"
    }
   },
   "source": [
    "## Prywatne Atrybuty"
   ]
  },
  {
   "cell_type": "code",
   "execution_count": 45,
   "metadata": {
    "collapsed": false,
    "slideshow": {
     "slide_type": "fragment"
    }
   },
   "outputs": [
    {
     "name": "stdout",
     "output_type": "stream",
     "text": [
      "dlugosc lini prostej wynosi 1\n",
      "dlugosc lini prostej wynosi -100\n"
     ]
    }
   ],
   "source": [
    "class Prosta (object):\n",
    "    \"\"\"klasa linii prostej\"\"\"\n",
    "    def __init__(self, dlugosc):\n",
    "        self.dlugosc = dlugosc\n",
    "        \n",
    "    def get_dlugosc(self):\n",
    "        return self.dlugosc\n",
    "    \n",
    "\n",
    "l_prosta = Prosta(1)\n",
    "print \"dlugosc lini prostej wynosi\", l_prosta.get_dlugosc()\n",
    "# w zasadzie każda dlugość > 0 ma sens, więc:\n",
    "l_prosta.dlugosc = -100\n",
    "print \"dlugosc lini prostej wynosi\", l_prosta.get_dlugosc()\n",
    "# jest bez sensu"
   ]
  },
  {
   "cell_type": "markdown",
   "metadata": {
    "slideshow": {
     "slide_type": "subslide"
    }
   },
   "source": [
    "Dlatego, możemy chcieć ukryć przed innymi klasami (ze świata zewnętrznego względem naszej klasy) pewne wartości przez nią przechowywane. <br><br>\n",
    "W tym celu tworzymy w klasie atrybut o jaki nam chodzi poprzedzając go podwójnym znakiem \"_\" - np. __dlugosc"
   ]
  },
  {
   "cell_type": "code",
   "execution_count": 23,
   "metadata": {
    "collapsed": false,
    "slideshow": {
     "slide_type": "fragment"
    }
   },
   "outputs": [
    {
     "name": "stdout",
     "output_type": "stream",
     "text": [
      "dlugosc lini prostej wynosi 1\n",
      "dlugosc lini prostej wynosi 1\n",
      "dlugosc lini prostej wynosi 1\n"
     ]
    }
   ],
   "source": [
    "class Prosta (object):\n",
    "    \"\"\"klasa linii prostej\"\"\"\n",
    "    def __init__(self, dlugosc):\n",
    "        self.__dlugosc = dlugosc\n",
    "        \n",
    "    def get_dlugosc(self):\n",
    "        return self.__dlugosc\n",
    "    \n",
    "l_prosta = Prosta(1)\n",
    "print \"dlugosc lini prostej wynosi\", l_prosta.get_dlugosc()\n",
    "# w zasadzie każda dlugość > 0 ma sens, więc:\n",
    "l_prosta.dlugosc = -100\n",
    "print \"dlugosc lini prostej wynosi\", l_prosta.get_dlugosc()\n",
    "l_prosta.__dlugosc = -99\n",
    "print \"dlugosc lini prostej wynosi\", l_prosta.get_dlugosc()\n"
   ]
  },
  {
   "cell_type": "markdown",
   "metadata": {
    "slideshow": {
     "slide_type": "fragment"
    }
   },
   "source": [
    "Jak widzimy, ten atrybut nie może być zmieniony z zwenątrz klasy - np. wprost wpisany przez jakąś inną klasę.\n",
    "<br><br>\n",
    "Jeśli chcemy zmienić ten atrybut musimy dodać metodę go obsługującą, którą udostępnimy:"
   ]
  },
  {
   "cell_type": "code",
   "execution_count": 43,
   "metadata": {
    "collapsed": false,
    "slideshow": {
     "slide_type": "fragment"
    }
   },
   "outputs": [
    {
     "name": "stdout",
     "output_type": "stream",
     "text": [
      "dlugosc lini prostej wynosi 1\n",
      "dlugosc lini prostej wynosi 1\n",
      "dlugosc lini prostej wynosi 3\n"
     ]
    }
   ],
   "source": [
    "class Prosta (object):\n",
    "    \"\"\"klasa linii prostej\"\"\"\n",
    "    def __init__(self, dlugosc):\n",
    "        self.__dlugosc = dlugosc\n",
    "        \n",
    "    def get_dlugosc(self):\n",
    "        return self.__dlugosc\n",
    "    \n",
    "    def set_dlugosc(self, dlugosc):\n",
    "        # dlugosc musi być >0\n",
    "        if dlugosc > 0:\n",
    "            self.__dlugosc = dlugosc\n",
    "\n",
    "l_prosta = Prosta(1)\n",
    "print \"dlugosc lini prostej wynosi\", l_prosta.get_dlugosc()\n",
    "l_prosta.set_dlugosc(-100)\n",
    "print \"dlugosc lini prostej wynosi\", l_prosta.get_dlugosc()\n",
    "l_prosta.set_dlugosc(3)\n",
    "print \"dlugosc lini prostej wynosi\", l_prosta.get_dlugosc()"
   ]
  },
  {
   "cell_type": "markdown",
   "metadata": {
    "slideshow": {
     "slide_type": "subslide"
    }
   },
   "source": [
    "## Metody Prywatne"
   ]
  },
  {
   "cell_type": "markdown",
   "metadata": {
    "slideshow": {
     "slide_type": "fragment"
    }
   },
   "source": [
    "Idea jest taka sama, jak w przypadku atrybutów - tworzymy metodę, którą nie chcemy, żeby ktokolwiek mógł wywołać.\n",
    "<br><br>\n",
    "Ma to być wewnętrzna metoda obiektu."
   ]
  },
  {
   "cell_type": "code",
   "execution_count": 41,
   "metadata": {
    "collapsed": false,
    "slideshow": {
     "slide_type": "fragment"
    }
   },
   "outputs": [
    {
     "name": "stdout",
     "output_type": "stream",
     "text": [
      "dlugosc lini prostej wynosi 1.0\n",
      "dlugosc lini prostej wynosi 1.0\n",
      "dlugosc lini prostej wynosi 3.0\n"
     ]
    }
   ],
   "source": [
    "class Prosta (object):\n",
    "    \"\"\"klasa linii prostej\"\"\"\n",
    "    def __init__(self, dlugosc):\n",
    "        self.__dlugosc = self.__to_float(dlugosc)\n",
    "        \n",
    "    def __to_float(self, cokolwiek):\n",
    "        if type(cokolwiek) != float:\n",
    "            juz_float = float(cokolwiek)\n",
    "            return juz_float\n",
    "        else:\n",
    "            return cokolwiek\n",
    "        \n",
    "    def get_dlugosc(self):\n",
    "        return self.__dlugosc\n",
    "    \n",
    "    def set_dlugosc(self, dlugosc):\n",
    "        # dlugosc musi być >0\n",
    "        if dlugosc > 0:\n",
    "            self.__dlugosc = self.__to_float(dlugosc)\n",
    "\n",
    "l_prosta = Prosta(1)\n",
    "print \"dlugosc lini prostej wynosi\", l_prosta.get_dlugosc()\n",
    "l_prosta.set_dlugosc(-100)\n",
    "print \"dlugosc lini prostej wynosi\", l_prosta.get_dlugosc()\n",
    "l_prosta.set_dlugosc(3)\n",
    "print \"dlugosc lini prostej wynosi\", l_prosta.get_dlugosc()"
   ]
  },
  {
   "cell_type": "markdown",
   "metadata": {
    "slideshow": {
     "slide_type": "slide"
    }
   },
   "source": [
    "# Metody statyczne"
   ]
  },
  {
   "cell_type": "markdown",
   "metadata": {
    "slideshow": {
     "slide_type": "fragment"
    }
   },
   "source": [
    "Być może, kiedyć najdzie nas ochota, na stworzenie metod, które nie będą odwoływały się do danej klasy. <br><br>\n",
    "\n",
    "Ważne, że w tych metodach nie można wykorzystywać metod i atrybutów nie statycznych - bo mogą być jeszcze nie wypełnione!"
   ]
  },
  {
   "cell_type": "code",
   "execution_count": 53,
   "metadata": {
    "collapsed": false
   },
   "outputs": [
    {
     "name": "stdout",
     "output_type": "stream",
     "text": [
      "12.56\n"
     ]
    }
   ],
   "source": [
    "class Circle:\n",
    "    pi = 3.14 # atrybut statyczny\n",
    "    @staticmethod\n",
    "    def get_obwod(r): # statyczna metoda\n",
    "        return 2 * Circle.pi * r\n",
    "\n",
    "print Circle.get_obwod(2)"
   ]
  },
  {
   "cell_type": "code",
   "execution_count": 50,
   "metadata": {
    "collapsed": false,
    "slideshow": {
     "slide_type": "fragment"
    }
   },
   "outputs": [
    {
     "name": "stdout",
     "output_type": "stream",
     "text": [
      "12.5663706144\n"
     ]
    }
   ],
   "source": [
    "import math\n",
    "\n",
    "class Circle:\n",
    "    @staticmethod\n",
    "    def get_obwod(r):\n",
    "        return 2 * math.pi * r\n",
    "\n",
    "print Circle.get_obwod(2)"
   ]
  },
  {
   "cell_type": "markdown",
   "metadata": {
    "slideshow": {
     "slide_type": "slide"
    }
   },
   "source": [
    "# Zadania na następne zajęcia\n"
   ]
  },
  {
   "cell_type": "markdown",
   "metadata": {
    "slideshow": {
     "slide_type": "fragment"
    }
   },
   "source": [
    "* Zbuduj klasy wg hierarchii:\n",
    "    - zwierzeta (masa, wiekosc, środowisko)\n",
    "        - ssaki\n",
    "            - psy \n",
    "            - koty\n",
    "            - kawie\n",
    "        - ptaki \n",
    "            - gołębiowate\n",
    "                - gołębie\n",
    "                - krukowate\n",
    "            - nieloty\n",
    "                - strusie\n",
    "                - pingwiny\n",
    "        - ryby\n",
    "            - żółwie\n",
    "            - krokodyle\n",
    "            - jaszczurki\n",
    "            \n",
    "* Stwórz listę, króra zawiera po jednym egzemplażu z każdej klasy\n",
    "    - wypisz (w pętli) w formacie: nazwa_klasy, masa, wielkosc, środowisko ... [inne szczegolne]"
   ]
  }
 ],
 "metadata": {
  "celltoolbar": "Slideshow",
  "kernelspec": {
   "display_name": "Python 2",
   "language": "python",
   "name": "python2"
  },
  "language_info": {
   "codemirror_mode": {
    "name": "ipython",
    "version": 2
   },
   "file_extension": ".py",
   "mimetype": "text/x-python",
   "name": "python",
   "nbconvert_exporter": "python",
   "pygments_lexer": "ipython2",
   "version": "2.7.10"
  }
 },
 "nbformat": 4,
 "nbformat_minor": 0
}
