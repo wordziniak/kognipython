{
 "cells": [
  {
   "cell_type": "markdown",
   "metadata": {},
   "source": [
    "# Kurs programowania w Pythonie\n",
    "# Spotkanie Inauguracyjne\n",
    "## Laboratorium Procesow Neuropoznawczych UJ "
   ]
  },
  {
   "cell_type": "markdown",
   "metadata": {},
   "source": [
    "# Agenda"
   ]
  },
  {
   "cell_type": "markdown",
   "metadata": {},
   "source": [
    "* Cel dzisiejszego spotkania\n",
    "* Sprawy organizacyjne\n",
    "* Wizja kursu\n",
    "* Kryteria podziału języków programowania\n",
    "* Czemu Python?\n",
    "* Python 2 vs Python 3\n",
    "* Zen of Python\n",
    "* Co to jest IDE\n",
    "* Jetbrains Pycharm IDE\n",
    "* Co to jest Jupyter Notebook?\n",
    "* Gdzie będą notatki z zajęć?"
   ]
  },
  {
   "cell_type": "markdown",
   "metadata": {},
   "source": [
    "# Co robimy dzisiaj?"
   ]
  },
  {
   "cell_type": "markdown",
   "metadata": {},
   "source": [
    "* Od czegoś trzeba zacząć :) "
   ]
  },
  {
   "cell_type": "markdown",
   "metadata": {},
   "source": [
    "* Kształt tych zajęć zależy **od was**. Chcemy przedyskutować formę naszych spotkań!"
   ]
  },
  {
   "cell_type": "markdown",
   "metadata": {},
   "source": [
    "* Chcemy wam wyjaśnić czego będziemy uczyć i dlaczego warto to umieć"
   ]
  },
  {
   "cell_type": "markdown",
   "metadata": {},
   "source": [
    "* Do pierwszych praktycznych zajęć trzeba się trochę przygotować a to dobry moment"
   ]
  },
  {
   "cell_type": "markdown",
   "metadata": {},
   "source": [
    "# Sprawy organizacyjne"
   ]
  },
  {
   "cell_type": "markdown",
   "metadata": {},
   "source": [
    "* **Czas:** Każdy poniedziałek @ 16:00\n",
    "* **Miejsce:** Wydział Matematyki I Informatyki UJ ul.Łojasiewicza 6 (Ruczaj) Sala 1071 lub 1072\n",
    "\n",
    "Kurs będzie trwał do końca roku (**Akademickiego?** )  "
   ]
  },
  {
   "cell_type": "markdown",
   "metadata": {},
   "source": [
    "# Wizja kursu "
   ]
  },
  {
   "cell_type": "markdown",
   "metadata": {},
   "source": [
    "** Kurs będzie składał się z trzech niezależnych bloków, każdy po około 6-7 zajęć**\n",
    "* Podstawy Pythona\n",
    "* Projektowanie procedur badawczych\n",
    "* Analiza danych wynikowych"
   ]
  },
  {
   "cell_type": "markdown",
   "metadata": {},
   "source": [
    "**Kurs planujemy zakończyć certyfikatem!**\n",
    "\n",
    "A Nawet Trzema"
   ]
  },
  {
   "cell_type": "markdown",
   "metadata": {},
   "source": [
    "** Z tego powodu będziemy jednak trochę wymagać**\n",
    "* Obecności na zajęciach (max 1 nieobecność/blok)\n",
    "* Rozwiązania zadań domowych (co najmniej 80%)\n",
    "\n",
    "** Oczywiście jeśli chcesz przychodzić, ale nie zależy Ci na certyfikacie, to nie ma problemu**"
   ]
  },
  {
   "cell_type": "markdown",
   "metadata": {},
   "source": [
    "** Projekt badawczy **\n",
    "\n",
    "Bardzo chcemy nauczyć Was praktyki, chcielibyśmy więc, żebyście pod naszym okiem zrealizowali od początku do końca badanie, które poza doświadczeniem da Wam całkiem niezłą pozycje w CV.\n",
    "\n",
    "Macie nasze wsparcie na każdym etapie:\n",
    "* Projektowanie badania pod kątem poprawności metodologicznej\n",
    "* Napisanie procedury\n",
    "* Przeprowadzenie pomiarów (nie w LPN!)\n",
    "* Analiza wyników"
   ]
  },
  {
   "cell_type": "markdown",
   "metadata": {},
   "source": [
    "** Zadania domowe **\n",
    "\n",
    "* Nasze spotkania będą miały formę warsztatową\n",
    "* Najpierw poopowiadamy trochę o teorii\n",
    "* Potem będziecie rozwiązywać zadania pod naszym okiem\n",
    "* Co nie zdążycie to do domu\n",
    "* Po wszystkim, rozwiązania dosyłacie nam do tygodnia na maila **kognipython@gmail.com**\n",
    "* Pytania też na mail powyżej :) "
   ]
  },
  {
   "cell_type": "markdown",
   "metadata": {},
   "source": [
    "** Kryteria podziału języków programowania**\n"
   ]
  },
  {
   "cell_type": "markdown",
   "metadata": {},
   "source": [
    "** Interpretowane vs Kompilowane **"
   ]
  },
  {
   "cell_type": "markdown",
   "metadata": {},
   "source": [
    "** Paradygmaty programowania **"
   ]
  },
  {
   "cell_type": "markdown",
   "metadata": {},
   "source": [
    "* Strukturalny"
   ]
  },
  {
   "cell_type": "markdown",
   "metadata": {},
   "source": [
    "* Obiektowy"
   ]
  },
  {
   "cell_type": "markdown",
   "metadata": {},
   "source": [
    "* Funkcyjny"
   ]
  },
  {
   "cell_type": "markdown",
   "metadata": {},
   "source": [
    "**Czemu Python?**"
   ]
  },
  {
   "cell_type": "markdown",
   "metadata": {},
   "source": [
    "* Najpopularniejszy język świata wśród naukowców\n",
    "* 4 najbardziej popularny język świata (w ogóle)\n",
    "* Bardzo prosty\n",
    "* Psychopy"
   ]
  },
  {
   "cell_type": "markdown",
   "metadata": {},
   "source": [
    "** Python 2 vs Python 3 **"
   ]
  },
  {
   "cell_type": "markdown",
   "metadata": {},
   "source": [
    "Python rozwijany jest równocześnie w dwóch wersjach, jest to oczywiście efekt schizmy, ale raczej wśród użytkowników, a nie twórców."
   ]
  },
  {
   "cell_type": "markdown",
   "metadata": {},
   "source": [
    "Co mówią twórcy Pythona?\n",
    "\n",
    "** Python 2.x is legacy, Python 3.x is the present and future of the language **\n"
   ]
  },
  {
   "cell_type": "markdown",
   "metadata": {},
   "source": [
    "Python 3 jest:\n",
    "* Szybszy\n",
    "* Lepiej zoptymalizowany\n",
    "* Prowadzi do bardziej czytelnego kodu"
   ]
  },
  {
   "cell_type": "markdown",
   "metadata": {},
   "source": [
    "Podsumowując, będziemy korzystać z Python 2 :)\n",
    "\n",
    "**Głównie przez psychopy**\n"
   ]
  },
  {
   "cell_type": "markdown",
   "metadata": {},
   "source": [
    "** Zen of Python **"
   ]
  },
  {
   "cell_type": "code",
   "execution_count": 4,
   "metadata": {},
   "outputs": [],
   "source": [
    "import this"
   ]
  },
  {
   "cell_type": "markdown",
   "metadata": {},
   "source": [
    "** Co to jest IDE **"
   ]
  },
  {
   "cell_type": "markdown",
   "metadata": {},
   "source": [
    "**IDE** -** Integrated Development Environment**\n",
    "\n",
    "Zintegrowane środowisko programistyczne"
   ]
  },
  {
   "cell_type": "markdown",
   "metadata": {},
   "source": [
    "** Jetbrains Pycharm IDE **"
   ]
  },
  {
   "cell_type": "markdown",
   "metadata": {},
   "source": [
    "**Pycharm - The Most Intelligent Python IDE**\n",
    "\n",
    "https://www.jetbrains.com/pycharm/"
   ]
  },
  {
   "cell_type": "markdown",
   "metadata": {},
   "source": [
    "* Chyba wszyscy z niego korzystają\n",
    "* Oczywiście korzystajcie z czego tam sobie chcecie\n",
    "* Jak się zarejestrujecie mailem w domenie uj.edu.pl to dostaniecie darmową licencje premium - warto!"
   ]
  },
  {
   "cell_type": "markdown",
   "metadata": {},
   "source": [
    "** Co to jest Jupyter Notebook? **"
   ]
  },
  {
   "cell_type": "markdown",
   "metadata": {},
   "source": [
    "The Jupyter Notebook is a web application that allows you to create and share documents that contain live code, equations, visualizations and explanatory text. "
   ]
  },
  {
   "cell_type": "markdown",
   "metadata": {},
   "source": [
    "** Gdzie będą notatki z zajęć**"
   ]
  },
  {
   "cell_type": "markdown",
   "metadata": {},
   "source": [
    "https://github.com/bartekkroczek/kurs_python"
   ]
  },
  {
   "cell_type": "markdown",
   "metadata": {},
   "source": [
    "** Bonus dla H4x0r0VV ** \n",
    "\n",
    "Jak wyrenderować notebooka do slajdów?"
   ]
  },
  {
   "cell_type": "raw",
   "metadata": {}
  },
  {
   "cell_type": "markdown",
   "metadata": {},
   "source": [
    "# FAJRANT"
   ]
  }
 ],
 "metadata": {
  "celltoolbar": "Slideshow",
  "kernelspec": {
   "display_name": "Python 2",
   "language": "python",
   "name": "python2"
  },
  "language_info": {
   "codemirror_mode": {
    "name": "ipython",
    "version": 2.0
   },
   "file_extension": ".py",
   "mimetype": "text/x-python",
   "name": "python",
   "nbconvert_exporter": "python",
   "pygments_lexer": "ipython2",
   "version": "2.7.9"
  }
 },
 "nbformat": 4,
 "nbformat_minor": 0
}