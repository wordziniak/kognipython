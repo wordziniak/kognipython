{
 "cells": [
  {
   "cell_type": "markdown",
   "metadata": {
    "slideshow": {
     "slide_type": "slide"
    }
   },
   "source": [
    "# Zajęcia 5 (2016-01-18)\n"
   ]
  },
  {
   "cell_type": "markdown",
   "metadata": {
    "slideshow": {
     "slide_type": "fragment"
    }
   },
   "source": [
    "## czego dziś się nauczymy?\n",
    "\n",
    "\n",
    "* operacje na plikach\n",
    "* listy z list\n",
    "    "
   ]
  },
  {
   "cell_type": "markdown",
   "metadata": {
    "slideshow": {
     "slide_type": "slide"
    }
   },
   "source": [
    "# Operacje na plikach\n"
   ]
  },
  {
   "cell_type": "markdown",
   "metadata": {
    "slideshow": {
     "slide_type": "fragment"
    }
   },
   "source": [
    "Jak wszystko w pythonie - pliki też są reprezentowane przez odpowiedni obiekt!\n"
   ]
  },
  {
   "cell_type": "markdown",
   "metadata": {
    "slideshow": {
     "slide_type": "subslide"
    }
   },
   "source": [
    "# jak otworzyć plik w programie?\n"
   ]
  },
  {
   "cell_type": "markdown",
   "metadata": {
    "slideshow": {
     "slide_type": "fragment"
    }
   },
   "source": [
    "open(name, mode) zwraca obiekt z plikiem\n",
    "    - name - ścieżka do pliku\n",
    "    - mode:\n",
    "        'r' (read): otwieramy tylko do odczytu\n",
    "        'w' (write): otwieramy tylko do pisania\n",
    "        'a' (append): otwieramy do dopisywania (następne linijki)"
   ]
  },
  {
   "cell_type": "code",
   "execution_count": 20,
   "metadata": {
    "collapsed": false,
    "slideshow": {
     "slide_type": "fragment"
    }
   },
   "outputs": [],
   "source": [
    "plik = open('przykladowy_plik.txt','w') #otwieramy plik w trybie 'write'\n",
    "\n",
    "plik.write(\"Coś co wpisujemy w pliku \") #brak dodatkowego EOF\n",
    "\n",
    "plik.writelines(\"linijka \") #powinnien dodawac EOF\n",
    "plik.writelines(\"linijka nastepna \") #ale nie chcialo u mnie dzialac...\n",
    "\n",
    "for i in range(5):\n",
    "    plik.write(\"to jest \"+str(i)+\" linijka pliku\\n\")\n",
    "\n",
    "plik.close() #zamykamy plik"
   ]
  },
  {
   "cell_type": "markdown",
   "metadata": {
    "slideshow": {
     "slide_type": "subslide"
    }
   },
   "source": [
    "# jak wyświetlić zawartość pliku?\n"
   ]
  },
  {
   "cell_type": "code",
   "execution_count": 41,
   "metadata": {
    "collapsed": false,
    "slideshow": {
     "slide_type": "fragment"
    }
   },
   "outputs": [
    {
     "name": "stdout",
     "output_type": "stream",
     "text": [
      "Coś co wpisujemy w pliku linijka linijka nastepnato jest 0 linijka pliku\n",
      "\n",
      "to jest 1 \n",
      "linijka pliku\n",
      "to jest 2 linijka pliku\n",
      "to jest 3 linijka pliku\n",
      "to jest 4 linijka pliku\n",
      "\n",
      "['linijka', 'pliku', 'to', 'jest', '2', 'linijka', 'pliku', 'to', 'jest', '3', 'linijka', 'pliku', 'to', 'jest', '4', 'linijka', 'pliku']\n"
     ]
    }
   ],
   "source": [
    "plik = open('przykladowy_plik.txt','r') #otwieramy plik w trybie 'read'\n",
    "\n",
    "print plik.readline() #wypisujemy wszystko do znaku EOF - jednocześnie przesuwając kursor na początek nowej linijki\n",
    "print plik.read(10) # wypisujemy kolejnych 10 znaków po kursorze\n",
    "\n",
    "znaki_w_pliku = plik.read()\n",
    "plik.close() #bo dalej już mozemy dzialac na str w ktorym zapisalismy znaki z pliku - nie blokujac samego pliku\n",
    "print znaki_w_pliku\n",
    "lista_wyrazow = znaki_w_pliku.split()\n",
    "print lista_wyrazow\n",
    "\n"
   ]
  },
  {
   "cell_type": "markdown",
   "metadata": {
    "slideshow": {
     "slide_type": "subslide"
    }
   },
   "source": [
    "## Zadanie:"
   ]
  },
  {
   "cell_type": "markdown",
   "metadata": {
    "slideshow": {
     "slide_type": "fragment"
    }
   },
   "source": [
    " - Stworz nowy plik\n",
    "     - zapisz do niego swoje imię i nazwisko\n",
    "     - w następnych 3 linijkach dopisz coś ciekawego\n",
    "     - (sprawdź, czy wszystko w pliku jest tak, jak powinno)\n",
    " - Otwórz swój plik\n",
    "     - wypisz tylko nazwisko\n",
    "     - wypisz tylko imię\n",
    "     - oraz 2 linijkę\n",
    "     - z listy zawierającej wszystkie wyrazy z pliku wypisz co trzeci\n",
    " - Pamiętaj, żeby zawsze zamykać pliki po skończonej operacji !!!"
   ]
  },
  {
   "cell_type": "markdown",
   "metadata": {
    "slideshow": {
     "slide_type": "slide"
    }
   },
   "source": [
    "# Tworzenie list na podstawie innych list"
   ]
  },
  {
   "cell_type": "markdown",
   "metadata": {
    "collapsed": false,
    "slideshow": {
     "slide_type": "fragment"
    }
   },
   "source": [
    "Brakuje dobrego odpowiednika tłumaczenia - List Comprehensions.\n",
    "\n",
    "Generalnie chodzi o to, że - tworzymy nowe listy na podstawie list już istniejących, ale:\n",
    "\n",
    " - tylko część elementów z całej listy, chcemy mieć w nowej\n",
    " - owe elementy (interesujące nas), mają jakąs logikę\n",
    " "
   ]
  },
  {
   "cell_type": "markdown",
   "metadata": {
    "slideshow": {
     "slide_type": "subslide"
    }
   },
   "source": [
    "## o co chodzi?"
   ]
  },
  {
   "cell_type": "code",
   "execution_count": 57,
   "metadata": {
    "collapsed": false,
    "slideshow": {
     "slide_type": "fragment"
    }
   },
   "outputs": [
    {
     "name": "stdout",
     "output_type": "stream",
     "text": [
      "[2, 6, 10]\n"
     ]
    }
   ],
   "source": [
    "numbers = [1, 2, 3, 4, 5]\n",
    "\n",
    "doubled_odds = []\n",
    "for n in numbers:\n",
    "    if n % 2 == 1:\n",
    "        doubled_odds.append(n * 2)\n",
    "\n",
    "print doubled_odds # podwojone 1,3,5"
   ]
  },
  {
   "cell_type": "code",
   "execution_count": 58,
   "metadata": {
    "collapsed": false,
    "slideshow": {
     "slide_type": "fragment"
    }
   },
   "outputs": [
    {
     "name": "stdout",
     "output_type": "stream",
     "text": [
      "[2, 6, 10]\n"
     ]
    }
   ],
   "source": [
    "numbers = [1, 2, 3, 4, 5]\n",
    "\n",
    "doubled_odds = [n * 2 for n in numbers if n % 2 == 1]\n",
    "\n",
    "print doubled_odds # podwojone 1,3,5"
   ]
  },
  {
   "cell_type": "code",
   "execution_count": 84,
   "metadata": {
    "collapsed": false,
    "slideshow": {
     "slide_type": "subslide"
    }
   },
   "outputs": [
    {
     "name": "stdout",
     "output_type": "stream",
     "text": [
      "['0', '1', 2, 3, '4', '5', '6', '7', 8, 9, '10', '11', '12', 13, '14', 15, 16, 17, 18, 19]\n",
      "[2, 3, 8, 9, 13, 15, 16, 17, 18, 19]\n",
      "['0', '1', '4', '5', '6', '7', '10', '11', '12', '14']\n"
     ]
    }
   ],
   "source": [
    "import random\n",
    "lista = list()\n",
    "\n",
    "for i in range(20): # generujemy sobie liczby i zapisujemy jako str lub int\n",
    "    if random.randint(0,10) <5:\n",
    "        lista.append(str(i)) # dodajemy jako znaki\n",
    "    else:\n",
    "        lista.append(int(i)) # dodajemy jako liczba\n",
    "        \n",
    "print lista\n",
    "\n",
    "#oczywiscie mozemy recznie wybierac tylko liczby, ale szkoda zycia - wiec:\n",
    "lista_liczb = list()\n",
    "\n",
    "for i in lista:\n",
    "    if isinstance(i,int):\n",
    "        lista_liczb.append(i)\n",
    "        \n",
    "print lista_liczb\n",
    "#no i juz jest latwiej, a można jeszcze szybciej - przyklad z znakami:\n",
    "\n",
    "lista_str = [i for i in lista if isinstance(i,str)]\n",
    "\n",
    "print lista_str\n"
   ]
  },
  {
   "cell_type": "markdown",
   "metadata": {
    "slideshow": {
     "slide_type": "subslide"
    }
   },
   "source": [
    "## tak samo można działać ze słownikami:"
   ]
  },
  {
   "cell_type": "code",
   "execution_count": 105,
   "metadata": {
    "collapsed": false,
    "slideshow": {
     "slide_type": "fragment"
    }
   },
   "outputs": [
    {
     "name": "stdout",
     "output_type": "stream",
     "text": [
      "{4139: 'agatka', 4444: 'jan'}\n",
      "{4139: 'agatka', 4444: 'jan', 3333: 'jacek', 3445: 'ktos'}\n",
      "{'jacek': 3333, 'ktos': 3445}\n"
     ]
    }
   ],
   "source": [
    "klucze = {'jacek': 3333, 'agatka': 4139, 'jan':4444, 'ktos':3445}\n",
    "slownik = {}\n",
    "for key, value in klucze.items():\n",
    "    if value > 3999:\n",
    "        slownik[value] = key \n",
    "    \n",
    "print slownik\n",
    "\n",
    "slownik2 = {value: key for key, value in klucze.items()}\n",
    "print slownik2\n",
    "\n",
    "slownik_do3999 = {value: key for key, value in klucze.items() if value<3999}\n",
    "print slownik_do3999"
   ]
  },
  {
   "cell_type": "markdown",
   "metadata": {
    "collapsed": false,
    "slideshow": {
     "slide_type": "subslide"
    }
   },
   "source": [
    "## można też ładniej zapisywać:"
   ]
  },
  {
   "cell_type": "code",
   "execution_count": 107,
   "metadata": {
    "collapsed": false,
    "slideshow": {
     "slide_type": "fragment"
    }
   },
   "outputs": [
    {
     "name": "stdout",
     "output_type": "stream",
     "text": [
      "{4444: 'jan', 3333: 'jacek'}\n"
     ]
    }
   ],
   "source": [
    "klucze = {'jacek': 3333, 'agatka': 4139, 'jan':4444, 'ktos':3445}\n",
    "\n",
    "value_na_j = {\n",
    "    value: key\n",
    "    for key,value in klucze.items()\n",
    "    if key[0] == 'j'\n",
    "    }\n",
    "\n",
    "print value_na_j"
   ]
  },
  {
   "cell_type": "code",
   "execution_count": 115,
   "metadata": {
    "collapsed": false,
    "slideshow": {
     "slide_type": "fragment"
    }
   },
   "outputs": [
    {
     "name": "stdout",
     "output_type": "stream",
     "text": [
      "['12', '21', '22', '23', '32', '42']\n"
     ]
    }
   ],
   "source": [
    "tablica2d = [['11','12','13'],\n",
    "             ['21','22','23'],\n",
    "             ['31','32','33'],\n",
    "             ['41','42','43']]\n",
    "\n",
    "elementy_z_2 = [\n",
    "    value\n",
    "    for rzad in tablica2d #w rzedzie\n",
    "    for value in rzad #wartosci z rzadu\n",
    "    if value[0]=='2' or value[1]=='2'\n",
    "    ]\n",
    "\n",
    "print elementy_z_2"
   ]
  },
  {
   "cell_type": "markdown",
   "metadata": {
    "collapsed": false,
    "slideshow": {
     "slide_type": "subslide"
    }
   },
   "source": [
    "## Zadanie"
   ]
  },
  {
   "cell_type": "markdown",
   "metadata": {
    "slideshow": {
     "slide_type": "fragment"
    }
   },
   "source": [
    " - dla tablicy2d z poprzedniego zadania:\n",
    "     - stwórz listę z wybierz elementami zawierającymi tylko jedno 3\n",
    "     - w jednej linijce zapisz komende tworzącą listę z takimi elementami, że cyfra druga jest mniejsza lub rowna cefrze pierwszej\n",
    " - stwórz słownik i:\n",
    "     - w jednej linijce stwórz słownik zawierający część elementów"
   ]
  },
  {
   "cell_type": "code",
   "execution_count": null,
   "metadata": {
    "collapsed": true
   },
   "outputs": [],
   "source": []
  }
 ],
 "metadata": {
  "celltoolbar": "Slideshow",
  "kernelspec": {
   "display_name": "Python 2",
   "language": "python",
   "name": "python2"
  },
  "language_info": {
   "codemirror_mode": {
    "name": "ipython",
    "version": 2
   },
   "file_extension": ".py",
   "mimetype": "text/x-python",
   "name": "python",
   "nbconvert_exporter": "python",
   "pygments_lexer": "ipython2",
   "version": "2.7.10"
  }
 },
 "nbformat": 4,
 "nbformat_minor": 0
}
